{
 "cells": [
  {
   "cell_type": "markdown",
   "metadata": {},
   "source": [
    "# Temat 4: Biblioteka PyTorch - wprowadzenie"
   ]
  },
  {
   "cell_type": "code",
   "execution_count": 18,
   "metadata": {},
   "outputs": [
    {
     "name": "stdout",
     "output_type": "stream",
     "text": [
      "PyTorch version: 2.2.1\n"
     ]
    }
   ],
   "source": [
    "import torch\n",
    "import numpy as np\n",
    "\n",
    "print('PyTorch version:', torch.__version__)\n",
    "\n",
    "np.set_printoptions(precision=3)"
   ]
  },
  {
   "cell_type": "markdown",
   "metadata": {},
   "source": [
    "## Zadanie 4.1\n",
    "\n",
    "1. (**Generowanie danych**).\n",
    "Stworzyć tensor `data_tensor` o wymiarach `(5, 3)`, który zawiera losowe liczby z przedziału od 0 do 10. Użyć funkcji `torch.randint()`.\n",
    "\n",
    "2. (**Podstawowa analiza**).\n",
    "Oblicz średnią wszystkich elementów w `data_tensor`.\n",
    "Znaleźć maksymalną wartość w każdym wierszu tego tensora oraz indeksy tych maksymalnych wartości. Wykorzystać do tego celu funkcję `torch.max()` z odpowiednimi argumentami.\n",
    "\n",
    "3. (**Dalsze przekształcenia**).\n",
    "Znormalizować\n",
    "`data_tensor`, tak aby wartości w każdym wierszu sumowały się do 1 (lub do 0, jeśli na wejściu cały wiersz składa się z samych zer). To oznacza, że każdy element wiersza należy podzielić przez sumę elementów w danym wierszu. \n",
    "Zadbać o to, aby kod był wykonywalny także we wspomnianym przypadku wiersza złożonego z samych zer, na przykład poprzez dodanie bardzo małej wartości (np. `1e-9`) do mianownika.\n",
    "\n",
    "4. (**Sortowanie**).\n",
    "Zaimplementować funkcję, która przyjmie tensor jako argument i zwraca tensor, w którym każdy wiersz jest posortowany rosnąco. Wykorzystać do tego celu funkcję `torch.sort()`."
   ]
  },
  {
   "cell_type": "markdown",
   "metadata": {},
   "source": [
    "### 1. Generowanie danych"
   ]
  },
  {
   "cell_type": "code",
   "execution_count": 19,
   "metadata": {},
   "outputs": [
    {
     "name": "stdout",
     "output_type": "stream",
     "text": [
      "tensor([[ 8,  7,  7],\n",
      "        [10,  4,  8],\n",
      "        [ 0,  6,  8],\n",
      "        [ 3, 10,  8],\n",
      "        [ 9,  8,  3]])\n"
     ]
    }
   ],
   "source": [
    "data_tensor = torch.randint(0, 11, (5, 3))\n",
    "\n",
    "print(data_tensor)"
   ]
  },
  {
   "cell_type": "markdown",
   "metadata": {},
   "source": [
    "### 2. Podstawowa analiza"
   ]
  },
  {
   "cell_type": "code",
   "execution_count": 20,
   "metadata": {},
   "outputs": [
    {
     "name": "stdout",
     "output_type": "stream",
     "text": [
      "6.6\n"
     ]
    }
   ],
   "source": [
    "#data_tensor_mean = torch.mean(data_tensor, axis=0)\n",
    "#print(data_tensor_mean)\n",
    "\n",
    "data_tensor_mean_np = np.mean(data_tensor.numpy())\n",
    "print(data_tensor_mean_np) "
   ]
  },
  {
   "cell_type": "code",
   "execution_count": 21,
   "metadata": {},
   "outputs": [
    {
     "name": "stdout",
     "output_type": "stream",
     "text": [
      "tensor([ 8, 10,  8, 10,  9])\n",
      "tensor([0, 0, 2, 1, 0])\n"
     ]
    }
   ],
   "source": [
    "max_row_values, max_row_values_indices = torch.max(data_tensor, axis=1)\n",
    "\n",
    "print(max_row_values)\n",
    "print(max_row_values_indices)"
   ]
  },
  {
   "cell_type": "markdown",
   "metadata": {},
   "source": [
    "### 3. Dalsze przekształcenia"
   ]
  },
  {
   "cell_type": "code",
   "execution_count": 7,
   "metadata": {},
   "outputs": [],
   "source": [
    "data_tensor_normalized = torch.zeros(15)\n",
    "data_tensor_normalized = data_tensor_normalized.reshape(5, 3)\n",
    "\n",
    "epsilon = 1e-9\n",
    "\n",
    "for i, row in enumerate(data_tensor, 0):\n",
    "    if torch.sum(row) != 0:\n",
    "        data_tensor_normalized[i] = row / torch.sum(row)\n",
    "    else:\n",
    "        data_tensor_normalized[i] = row / (torch.sum(row)+epsilon)\n"
   ]
  },
  {
   "cell_type": "code",
   "execution_count": 8,
   "metadata": {},
   "outputs": [
    {
     "data": {
      "text/plain": [
       "tensor([[0.6667, 0.0000, 0.3333],\n",
       "        [0.3913, 0.3043, 0.3043],\n",
       "        [0.3333, 0.3333, 0.3333],\n",
       "        [0.3500, 0.4000, 0.2500],\n",
       "        [0.0000, 0.6667, 0.3333]])"
      ]
     },
     "execution_count": 8,
     "metadata": {},
     "output_type": "execute_result"
    }
   ],
   "source": [
    "data_tensor_normalized"
   ]
  },
  {
   "cell_type": "markdown",
   "metadata": {},
   "source": [
    "### 4. Sortowanie"
   ]
  },
  {
   "cell_type": "code",
   "execution_count": 9,
   "metadata": {},
   "outputs": [],
   "source": [
    "def sort_tensor_ascending(data_tensor):\n",
    "    return torch.sort(data_tensor, axis=1).values"
   ]
  },
  {
   "cell_type": "code",
   "execution_count": 10,
   "metadata": {},
   "outputs": [
    {
     "name": "stdout",
     "output_type": "stream",
     "text": [
      "tensor([[8, 0, 4],\n",
      "        [9, 7, 7],\n",
      "        [1, 1, 1],\n",
      "        [7, 8, 5],\n",
      "        [0, 2, 1]])\n",
      "tensor([[0, 4, 8],\n",
      "        [7, 7, 9],\n",
      "        [1, 1, 1],\n",
      "        [5, 7, 8],\n",
      "        [0, 1, 2]])\n"
     ]
    }
   ],
   "source": [
    "print(data_tensor)\n",
    "\n",
    "sorted_tensor = sort_tensor_ascending(data_tensor)\n",
    "print(sorted_tensor)"
   ]
  },
  {
   "cell_type": "markdown",
   "metadata": {},
   "source": [
    "## Zadanie 4.2\n",
    "\n",
    "Stworzyć tensor o wymiarach `(3, 4, 2)` zawierający losowe wartości całkowite z przedziału od 1 do 100 (wyświetlić utworzony tensor). Następnie zamienić w nim drugi wymiar z trzecim (wyświetlić tensor po zamianie) i zmień kształt otrzymanego tensora na `(4, 6)`, łącząc odpowiednio jego elementy (także wyświetlić otrzymany tensor)."
   ]
  },
  {
   "cell_type": "code",
   "execution_count": 22,
   "metadata": {},
   "outputs": [
    {
     "name": "stdout",
     "output_type": "stream",
     "text": [
      "tensor([[[34, 52],\n",
      "         [41, 24],\n",
      "         [10, 44],\n",
      "         [86, 31]],\n",
      "\n",
      "        [[ 8, 52],\n",
      "         [ 9, 54],\n",
      "         [91, 57],\n",
      "         [54, 92]],\n",
      "\n",
      "        [[11, 30],\n",
      "         [60, 20],\n",
      "         [36, 67],\n",
      "         [93, 61]]])\n"
     ]
    }
   ],
   "source": [
    "data_tensor = torch.randint(0, 101, (3, 4, 2))\n",
    "print(data_tensor)"
   ]
  },
  {
   "cell_type": "code",
   "execution_count": 23,
   "metadata": {},
   "outputs": [
    {
     "name": "stdout",
     "output_type": "stream",
     "text": [
      "tensor([[[34, 41, 10, 86],\n",
      "         [52, 24, 44, 31]],\n",
      "\n",
      "        [[ 8,  9, 91, 54],\n",
      "         [52, 54, 57, 92]],\n",
      "\n",
      "        [[11, 60, 36, 93],\n",
      "         [30, 20, 67, 61]]])\n"
     ]
    }
   ],
   "source": [
    "data_tensor_tr = torch.transpose(data_tensor, 1, 2)\n",
    "print(data_tensor_tr)\n"
   ]
  },
  {
   "cell_type": "code",
   "execution_count": 24,
   "metadata": {},
   "outputs": [
    {
     "name": "stdout",
     "output_type": "stream",
     "text": [
      "tensor([[34, 41, 10, 86, 52, 24],\n",
      "        [44, 31,  8,  9, 91, 54],\n",
      "        [52, 54, 57, 92, 11, 60],\n",
      "        [36, 93, 30, 20, 67, 61]])\n"
     ]
    }
   ],
   "source": [
    "data_tensor_reshape = data_tensor_tr.reshape(4, 6) \n",
    "print(data_tensor_reshape)"
   ]
  },
  {
   "cell_type": "markdown",
   "metadata": {},
   "source": [
    "## Zadanie 4.3\n",
    "\n",
    "Utworzyć tensor `t` o wymiarach `(6, 10)`, zawierający losowe liczby z przedziału od 0 do 1. Podzielić ten tensora na dwie równe części wzdłuż kolumn, a następnie połączyć te części w jeden tensor wzdłuż nowego wymiaru, tak aby otrzymać tensor o rozmiarze `(2, 6, 5)`. Wyświetlić tensory z wszystkich etapów przekształcenia.\n",
    "Sprawdzić rozmiar powstałego tensora za pomocą metody `shape`."
   ]
  },
  {
   "cell_type": "code",
   "execution_count": 15,
   "metadata": {},
   "outputs": [
    {
     "name": "stdout",
     "output_type": "stream",
     "text": [
      "tensor([[0.4801, 0.5306, 0.2151, 0.4376, 0.8304, 0.5965, 0.0987, 0.0208, 0.4702,\n",
      "         0.8074],\n",
      "        [0.7506, 0.3252, 0.6048, 0.0938, 0.4379, 0.2444, 0.2792, 0.1672, 0.5669,\n",
      "         0.9671],\n",
      "        [0.7523, 0.1383, 0.3216, 0.5083, 0.8364, 0.9551, 0.9854, 0.8290, 0.1258,\n",
      "         0.5909],\n",
      "        [0.9826, 0.2047, 0.0668, 0.2129, 0.6109, 0.4691, 0.9894, 0.7049, 0.8471,\n",
      "         0.0193],\n",
      "        [0.8466, 0.5769, 0.7848, 0.6877, 0.0376, 0.9937, 0.8241, 0.6876, 0.2035,\n",
      "         0.4977],\n",
      "        [0.3729, 0.3915, 0.2005, 0.2618, 0.6520, 0.5944, 0.8117, 0.2192, 0.9734,\n",
      "         0.3543]])\n"
     ]
    }
   ],
   "source": [
    "t = torch.rand(6,10)\n",
    "print(t)\n"
   ]
  },
  {
   "cell_type": "code",
   "execution_count": 16,
   "metadata": {},
   "outputs": [
    {
     "name": "stdout",
     "output_type": "stream",
     "text": [
      "(tensor([[0.4801, 0.5306, 0.2151, 0.4376, 0.8304],\n",
      "        [0.7506, 0.3252, 0.6048, 0.0938, 0.4379],\n",
      "        [0.7523, 0.1383, 0.3216, 0.5083, 0.8364],\n",
      "        [0.9826, 0.2047, 0.0668, 0.2129, 0.6109],\n",
      "        [0.8466, 0.5769, 0.7848, 0.6877, 0.0376],\n",
      "        [0.3729, 0.3915, 0.2005, 0.2618, 0.6520]]), tensor([[0.5965, 0.0987, 0.0208, 0.4702, 0.8074],\n",
      "        [0.2444, 0.2792, 0.1672, 0.5669, 0.9671],\n",
      "        [0.9551, 0.9854, 0.8290, 0.1258, 0.5909],\n",
      "        [0.4691, 0.9894, 0.7049, 0.8471, 0.0193],\n",
      "        [0.9937, 0.8241, 0.6876, 0.2035, 0.4977],\n",
      "        [0.5944, 0.8117, 0.2192, 0.9734, 0.3543]]))\n"
     ]
    }
   ],
   "source": [
    "t_splits = torch.chunk(t, chunks=2, dim=1)\n",
    "print(t_splits)"
   ]
  },
  {
   "cell_type": "code",
   "execution_count": 17,
   "metadata": {},
   "outputs": [
    {
     "name": "stdout",
     "output_type": "stream",
     "text": [
      "tensor([[[0.4801, 0.5306, 0.2151, 0.4376, 0.8304],\n",
      "         [0.7506, 0.3252, 0.6048, 0.0938, 0.4379],\n",
      "         [0.7523, 0.1383, 0.3216, 0.5083, 0.8364],\n",
      "         [0.9826, 0.2047, 0.0668, 0.2129, 0.6109],\n",
      "         [0.8466, 0.5769, 0.7848, 0.6877, 0.0376],\n",
      "         [0.3729, 0.3915, 0.2005, 0.2618, 0.6520]],\n",
      "\n",
      "        [[0.5965, 0.0987, 0.0208, 0.4702, 0.8074],\n",
      "         [0.2444, 0.2792, 0.1672, 0.5669, 0.9671],\n",
      "         [0.9551, 0.9854, 0.8290, 0.1258, 0.5909],\n",
      "         [0.4691, 0.9894, 0.7049, 0.8471, 0.0193],\n",
      "         [0.9937, 0.8241, 0.6876, 0.2035, 0.4977],\n",
      "         [0.5944, 0.8117, 0.2192, 0.9734, 0.3543]]])\n",
      "torch.Size([2, 6, 5])\n"
     ]
    }
   ],
   "source": [
    "S = torch.stack(t_splits, axis=0)\n",
    "print(S)\n",
    "print(S.shape)"
   ]
  },
  {
   "cell_type": "code",
   "execution_count": null,
   "metadata": {},
   "outputs": [],
   "source": []
  }
 ],
 "metadata": {
  "kernelspec": {
   "display_name": "base",
   "language": "python",
   "name": "python3"
  },
  "language_info": {
   "codemirror_mode": {
    "name": "ipython",
    "version": 3
   },
   "file_extension": ".py",
   "mimetype": "text/x-python",
   "name": "python",
   "nbconvert_exporter": "python",
   "pygments_lexer": "ipython3",
   "version": "3.11.8"
  }
 },
 "nbformat": 4,
 "nbformat_minor": 2
}
