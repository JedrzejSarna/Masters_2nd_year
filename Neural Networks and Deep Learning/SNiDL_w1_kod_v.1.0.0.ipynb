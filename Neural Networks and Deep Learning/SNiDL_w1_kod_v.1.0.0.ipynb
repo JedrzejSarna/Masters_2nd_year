{
 "cells": [
  {
   "cell_type": "markdown",
   "metadata": {
    "tags": []
   },
   "source": [
    "# Sieci neuronowe i Deep Learning\n",
    "# Temat 1: Wprowadzenie - perceptron"
   ]
  },
  {
   "cell_type": "markdown",
   "metadata": {},
   "source": [
    "## Sprawdzenie wersji potrzebnych pakietów"
   ]
  },
  {
   "cell_type": "code",
   "execution_count": 1,
   "metadata": {
    "collapsed": true
   },
   "outputs": [
    {
     "name": "stdout",
     "output_type": "stream",
     "text": [
      "[OK] Your Python version is 3.11.8 (main, Feb 26 2024, 15:36:12) [Clang 14.0.6 ]\n",
      "[OK] numpy 1.26.4\n",
      "[FAIL] matplotlib 3.8.3, please upgrade to 3.4.3 >= matplotlib <= 3.8\n",
      "[OK] pandas 2.2.1\n"
     ]
    },
    {
     "name": "stderr",
     "output_type": "stream",
     "text": [
      "/Users/jedrzejsarna/anaconda3/lib/python3.11/site-packages/pandas/core/arrays/masked.py:60: UserWarning: Pandas requires version '1.3.6' or newer of 'bottleneck' (version '1.3.5' currently installed).\n",
      "  from pandas.core import (\n"
     ]
    }
   ],
   "source": [
    "from python_environment_check import check_packages  # Mam skrypt python_environment_check.py w bieżącym katalogu roboczym\n",
    "\n",
    "d = {\n",
    "    'numpy': '1.21.2',\n",
    "    'matplotlib': '3.4.3',\n",
    "    'pandas': '1.3.2'\n",
    "}\n",
    "check_packages(d)"
   ]
  },
  {
   "cell_type": "code",
   "execution_count": 2,
   "metadata": {
    "collapsed": true
   },
   "outputs": [
    {
     "name": "stdout",
     "output_type": "stream",
     "text": [
      "Name: pandas\n",
      "Version: 2.2.1\n",
      "Summary: Powerful data structures for data analysis, time series, and statistics\n",
      "Home-page: https://pandas.pydata.org\n",
      "Author: \n",
      "Author-email: The Pandas Development Team <pandas-dev@python.org>\n",
      "License: BSD 3-Clause License\n",
      "\n",
      "Copyright (c) 2008-2011, AQR Capital Management, LLC, Lambda Foundry, Inc. and PyData Development Team\n",
      "All rights reserved.\n",
      "\n",
      "Copyright (c) 2011-2023, Open source contributors.\n",
      "\n",
      "Redistribution and use in source and binary forms, with or without\n",
      "modification, are permitted provided that the following conditions are met:\n",
      "\n",
      "* Redistributions of source code must retain the above copyright notice, this\n",
      "  list of conditions and the following disclaimer.\n",
      "\n",
      "* Redistributions in binary form must reproduce the above copyright notice,\n",
      "  this list of conditions and the following disclaimer in the documentation\n",
      "  and/or other materials provided with the distribution.\n",
      "\n",
      "* Neither the name of the copyright holder nor the names of its\n",
      "  contributors may be used to endorse or promote products derived from\n",
      "  this software without specific prior written permission.\n",
      "\n",
      "THIS SOFTWARE IS PROVIDED BY THE COPYRIGHT HOLDERS AND CONTRIBUTORS \"AS IS\"\n",
      "AND ANY EXPRESS OR IMPLIED WARRANTIES, INCLUDING, BUT NOT LIMITED TO, THE\n",
      "IMPLIED WARRANTIES OF MERCHANTABILITY AND FITNESS FOR A PARTICULAR PURPOSE ARE\n",
      "DISCLAIMED. IN NO EVENT SHALL THE COPYRIGHT HOLDER OR CONTRIBUTORS BE LIABLE\n",
      "FOR ANY DIRECT, INDIRECT, INCIDENTAL, SPECIAL, EXEMPLARY, OR CONSEQUENTIAL\n",
      "DAMAGES (INCLUDING, BUT NOT LIMITED TO, PROCUREMENT OF SUBSTITUTE GOODS OR\n",
      "SERVICES; LOSS OF USE, DATA, OR PROFITS; OR BUSINESS INTERRUPTION) HOWEVER\n",
      "CAUSED AND ON ANY THEORY OF LIABILITY, WHETHER IN CONTRACT, STRICT LIABILITY,\n",
      "OR TORT (INCLUDING NEGLIGENCE OR OTHERWISE) ARISING IN ANY WAY OUT OF THE USE\n",
      "OF THIS SOFTWARE, EVEN IF ADVISED OF THE POSSIBILITY OF SUCH DAMAGE.\n",
      "Location: /Users/jedrzejsarna/anaconda3/lib/python3.11/site-packages\n",
      "Requires: numpy, python-dateutil, pytz, tzdata\n",
      "Required-by: bokeh, datasets, datashader, holoviews, hvplot, panel, seaborn, statsmodels, xarray\n"
     ]
    }
   ],
   "source": [
    "# Sprawdzanie wersji konretnego pakietu (na przykładzie pandas); \"!\", aby wykonać polecenie w notebooku:\n",
    "!pip show pandas"
   ]
  },
  {
   "cell_type": "code",
   "execution_count": 3,
   "metadata": {
    "collapsed": true
   },
   "outputs": [
    {
     "name": "stdout",
     "output_type": "stream",
     "text": [
      "\u001b[31mERROR: Could not find a version that satisfies the requirement pandas==999.0 (from versions: 0.1, 0.2, 0.3.0, 0.4.0, 0.4.1, 0.4.2, 0.4.3, 0.5.0, 0.6.0, 0.6.1, 0.7.0, 0.7.1, 0.7.2, 0.7.3, 0.8.0, 0.8.1, 0.9.0, 0.9.1, 0.10.0, 0.10.1, 0.11.0, 0.12.0, 0.13.0, 0.13.1, 0.14.0, 0.14.1, 0.15.0, 0.15.1, 0.15.2, 0.16.0, 0.16.1, 0.16.2, 0.17.0, 0.17.1, 0.18.0, 0.18.1, 0.19.0, 0.19.1, 0.19.2, 0.20.0, 0.20.1, 0.20.2, 0.20.3, 0.21.0, 0.21.1, 0.22.0, 0.23.0, 0.23.1, 0.23.2, 0.23.3, 0.23.4, 0.24.0, 0.24.1, 0.24.2, 0.25.0, 0.25.1, 0.25.2, 0.25.3, 1.0.0, 1.0.1, 1.0.2, 1.0.3, 1.0.4, 1.0.5, 1.1.0, 1.1.1, 1.1.2, 1.1.3, 1.1.4, 1.1.5, 1.2.0, 1.2.1, 1.2.2, 1.2.3, 1.2.4, 1.2.5, 1.3.0, 1.3.1, 1.3.2, 1.3.3, 1.3.4, 1.3.5, 1.4.0rc0, 1.4.0, 1.4.1, 1.4.2, 1.4.3, 1.4.4, 1.5.0rc0, 1.5.0, 1.5.1, 1.5.2, 1.5.3, 2.0.0rc0, 2.0.0rc1, 2.0.0, 2.0.1, 2.0.2, 2.0.3, 2.1.0rc0, 2.1.0, 2.1.1, 2.1.2, 2.1.3, 2.1.4, 2.2.0rc0, 2.2.0, 2.2.1)\u001b[0m\u001b[31m\n",
      "\u001b[0m\u001b[31mERROR: No matching distribution found for pandas==999.0\u001b[0m\u001b[31m\n",
      "\u001b[0m"
     ]
    }
   ],
   "source": [
    "# Sposób na sprawdzenie najnowszej wersji wybranego pakietu (na przykładzie pandas):\n",
    "!pip install pandas==999.0"
   ]
  },
  {
   "cell_type": "code",
   "execution_count": 4,
   "metadata": {
    "collapsed": true
   },
   "outputs": [
    {
     "name": "stdout",
     "output_type": "stream",
     "text": [
      "Requirement already satisfied: pandas in /Users/jedrzejsarna/anaconda3/lib/python3.11/site-packages (2.2.1)\n",
      "Requirement already satisfied: numpy<2,>=1.23.2 in /Users/jedrzejsarna/anaconda3/lib/python3.11/site-packages (from pandas) (1.26.4)\n",
      "Requirement already satisfied: python-dateutil>=2.8.2 in /Users/jedrzejsarna/anaconda3/lib/python3.11/site-packages (from pandas) (2.8.2)\n",
      "Requirement already satisfied: pytz>=2020.1 in /Users/jedrzejsarna/anaconda3/lib/python3.11/site-packages (from pandas) (2023.3.post1)\n",
      "Requirement already satisfied: tzdata>=2022.7 in /Users/jedrzejsarna/anaconda3/lib/python3.11/site-packages (from pandas) (2023.3)\n",
      "Requirement already satisfied: six>=1.5 in /Users/jedrzejsarna/anaconda3/lib/python3.11/site-packages (from python-dateutil>=2.8.2->pandas) (1.16.0)\n"
     ]
    }
   ],
   "source": [
    "# Aktualizacja pakietu do najnowszej dostępnej wersji:\n",
    "!pip install --upgrade pandas"
   ]
  },
  {
   "cell_type": "code",
   "execution_count": 2,
   "metadata": {
    "collapsed": true
   },
   "outputs": [
    {
     "name": "stdout",
     "output_type": "stream",
     "text": [
      "Defaulting to user installation because normal site-packages is not writeable\n",
      "Requirement already satisfied: numpy in c:\\programdata\\anaconda3\\lib\\site-packages (1.24.3)\n",
      "Collecting numpy\n",
      "  Obtaining dependency information for numpy from https://files.pythonhosted.org/packages/3f/6b/5610004206cf7f8e7ad91c5a85a8c71b2f2f8051a0c0c4d5916b76d6cbb2/numpy-1.26.4-cp311-cp311-win_amd64.whl.metadata\n",
      "  Downloading numpy-1.26.4-cp311-cp311-win_amd64.whl.metadata (61 kB)\n",
      "     ---------------------------------------- 0.0/61.0 kB ? eta -:--:--\n",
      "     ------------ ------------------------- 20.5/61.0 kB 320.0 kB/s eta 0:00:01\n",
      "     ------------------- ------------------ 30.7/61.0 kB 325.1 kB/s eta 0:00:01\n",
      "     -------------------------------------- 61.0/61.0 kB 406.4 kB/s eta 0:00:00\n",
      "Downloading numpy-1.26.4-cp311-cp311-win_amd64.whl (15.8 MB)\n",
      "   ---------------------------------------- 0.0/15.8 MB ? eta -:--:--\n",
      "   ---------------------------------------- 0.0/15.8 MB 2.0 MB/s eta 0:00:08\n",
      "   ---------------------------------------- 0.1/15.8 MB 825.8 kB/s eta 0:00:20\n",
      "   ---------------------------------------- 0.2/15.8 MB 1.7 MB/s eta 0:00:10\n",
      "    --------------------------------------- 0.2/15.8 MB 1.4 MB/s eta 0:00:12\n",
      "   - -------------------------------------- 0.4/15.8 MB 1.9 MB/s eta 0:00:09\n",
      "   - -------------------------------------- 0.6/15.8 MB 2.1 MB/s eta 0:00:08\n",
      "   - -------------------------------------- 0.7/15.8 MB 2.3 MB/s eta 0:00:07\n",
      "   -- ------------------------------------- 0.9/15.8 MB 2.4 MB/s eta 0:00:07\n",
      "   -- ------------------------------------- 1.1/15.8 MB 2.6 MB/s eta 0:00:06\n",
      "   --- ------------------------------------ 1.3/15.8 MB 2.8 MB/s eta 0:00:06\n",
      "   --- ------------------------------------ 1.5/15.8 MB 2.9 MB/s eta 0:00:05\n",
      "   ---- ----------------------------------- 1.7/15.8 MB 3.1 MB/s eta 0:00:05\n",
      "   ---- ----------------------------------- 1.9/15.8 MB 3.2 MB/s eta 0:00:05\n",
      "   ----- ---------------------------------- 2.0/15.8 MB 3.2 MB/s eta 0:00:05\n",
      "   ----- ---------------------------------- 2.3/15.8 MB 3.3 MB/s eta 0:00:05\n",
      "   ------ --------------------------------- 2.4/15.8 MB 3.4 MB/s eta 0:00:04\n",
      "   ------ --------------------------------- 2.6/15.8 MB 3.3 MB/s eta 0:00:04\n",
      "   ------ --------------------------------- 2.7/15.8 MB 3.3 MB/s eta 0:00:05\n",
      "   ------- -------------------------------- 2.8/15.8 MB 3.3 MB/s eta 0:00:04\n",
      "   ------- -------------------------------- 3.0/15.8 MB 3.4 MB/s eta 0:00:04\n",
      "   -------- ------------------------------- 3.2/15.8 MB 3.4 MB/s eta 0:00:04\n",
      "   -------- ------------------------------- 3.4/15.8 MB 3.4 MB/s eta 0:00:04\n",
      "   -------- ------------------------------- 3.4/15.8 MB 3.4 MB/s eta 0:00:04\n",
      "   -------- ------------------------------- 3.4/15.8 MB 3.4 MB/s eta 0:00:04\n",
      "   -------- ------------------------------- 3.4/15.8 MB 3.4 MB/s eta 0:00:04\n",
      "   -------- ------------------------------- 3.4/15.8 MB 3.4 MB/s eta 0:00:04\n",
      "   -------- ------------------------------- 3.4/15.8 MB 3.4 MB/s eta 0:00:04\n",
      "   -------- ------------------------------- 3.5/15.8 MB 2.8 MB/s eta 0:00:05\n",
      "   --------- ------------------------------ 3.7/15.8 MB 2.8 MB/s eta 0:00:05\n",
      "   --------- ------------------------------ 3.9/15.8 MB 2.9 MB/s eta 0:00:05\n",
      "   ---------- ----------------------------- 4.1/15.8 MB 2.9 MB/s eta 0:00:04\n",
      "   ---------- ----------------------------- 4.2/15.8 MB 2.9 MB/s eta 0:00:04\n",
      "   ----------- ---------------------------- 4.4/15.8 MB 2.9 MB/s eta 0:00:04\n",
      "   ----------- ---------------------------- 4.6/15.8 MB 2.9 MB/s eta 0:00:04\n",
      "   ------------ --------------------------- 4.8/15.8 MB 3.0 MB/s eta 0:00:04\n",
      "   ------------ --------------------------- 4.9/15.8 MB 3.0 MB/s eta 0:00:04\n",
      "   ------------ --------------------------- 5.1/15.8 MB 3.0 MB/s eta 0:00:04\n",
      "   ------------- -------------------------- 5.3/15.8 MB 3.0 MB/s eta 0:00:04\n",
      "   ------------- -------------------------- 5.5/15.8 MB 3.1 MB/s eta 0:00:04\n",
      "   -------------- ------------------------- 5.7/15.8 MB 3.1 MB/s eta 0:00:04\n",
      "   -------------- ------------------------- 5.9/15.8 MB 3.1 MB/s eta 0:00:04\n",
      "   --------------- ------------------------ 6.1/15.8 MB 3.2 MB/s eta 0:00:04\n",
      "   --------------- ------------------------ 6.3/15.8 MB 3.2 MB/s eta 0:00:03\n",
      "   ---------------- ----------------------- 6.5/15.8 MB 3.2 MB/s eta 0:00:03\n",
      "   ----------------- ---------------------- 6.7/15.8 MB 3.3 MB/s eta 0:00:03\n",
      "   ----------------- ---------------------- 6.9/15.8 MB 3.3 MB/s eta 0:00:03\n",
      "   ----------------- ---------------------- 7.1/15.8 MB 3.3 MB/s eta 0:00:03\n",
      "   ------------------ --------------------- 7.3/15.8 MB 3.3 MB/s eta 0:00:03\n",
      "   ------------------ --------------------- 7.5/15.8 MB 3.3 MB/s eta 0:00:03\n",
      "   ------------------- -------------------- 7.6/15.8 MB 3.3 MB/s eta 0:00:03\n",
      "   ------------------- -------------------- 7.8/15.8 MB 3.3 MB/s eta 0:00:03\n",
      "   -------------------- ------------------- 8.0/15.8 MB 3.4 MB/s eta 0:00:03\n",
      "   -------------------- ------------------- 8.2/15.8 MB 3.4 MB/s eta 0:00:03\n",
      "   --------------------- ------------------ 8.4/15.8 MB 3.4 MB/s eta 0:00:03\n",
      "   --------------------- ------------------ 8.6/15.8 MB 3.4 MB/s eta 0:00:03\n",
      "   ---------------------- ----------------- 8.8/15.8 MB 3.4 MB/s eta 0:00:03\n",
      "   ---------------------- ----------------- 9.0/15.8 MB 3.4 MB/s eta 0:00:02\n",
      "   ----------------------- ---------------- 9.2/15.8 MB 3.5 MB/s eta 0:00:02\n",
      "   ----------------------- ---------------- 9.4/15.8 MB 3.5 MB/s eta 0:00:02\n",
      "   ------------------------ --------------- 9.6/15.8 MB 3.5 MB/s eta 0:00:02\n",
      "   ------------------------ --------------- 9.7/15.8 MB 3.5 MB/s eta 0:00:02\n",
      "   ------------------------ --------------- 9.8/15.8 MB 3.4 MB/s eta 0:00:02\n",
      "   ------------------------- -------------- 10.0/15.8 MB 3.5 MB/s eta 0:00:02\n",
      "   ------------------------- -------------- 10.2/15.8 MB 3.5 MB/s eta 0:00:02\n",
      "   -------------------------- ------------- 10.4/15.8 MB 3.5 MB/s eta 0:00:02\n",
      "   -------------------------- ------------- 10.4/15.8 MB 3.5 MB/s eta 0:00:02\n",
      "   -------------------------- ------------- 10.4/15.8 MB 3.5 MB/s eta 0:00:02\n",
      "   -------------------------- ------------- 10.4/15.8 MB 3.5 MB/s eta 0:00:02\n",
      "   -------------------------- ------------- 10.4/15.8 MB 3.5 MB/s eta 0:00:02\n",
      "   -------------------------- ------------- 10.6/15.8 MB 3.4 MB/s eta 0:00:02\n",
      "   --------------------------- ------------ 10.8/15.8 MB 3.4 MB/s eta 0:00:02\n",
      "   --------------------------- ------------ 11.0/15.8 MB 3.4 MB/s eta 0:00:02\n",
      "   ---------------------------- ----------- 11.2/15.8 MB 3.4 MB/s eta 0:00:02\n",
      "   ---------------------------- ----------- 11.4/15.8 MB 3.4 MB/s eta 0:00:02\n",
      "   ---------------------------- ----------- 11.5/15.8 MB 3.4 MB/s eta 0:00:02\n",
      "   ----------------------------- ---------- 11.6/15.8 MB 3.4 MB/s eta 0:00:02\n",
      "   ----------------------------- ---------- 11.8/15.8 MB 3.4 MB/s eta 0:00:02\n",
      "   ------------------------------ --------- 12.0/15.8 MB 3.4 MB/s eta 0:00:02\n",
      "   ------------------------------ --------- 12.2/15.8 MB 3.4 MB/s eta 0:00:02\n",
      "   ------------------------------- -------- 12.4/15.8 MB 3.4 MB/s eta 0:00:02\n",
      "   ------------------------------- -------- 12.5/15.8 MB 3.4 MB/s eta 0:00:01\n",
      "   -------------------------------- ------- 12.7/15.8 MB 3.4 MB/s eta 0:00:01\n",
      "   -------------------------------- ------- 12.9/15.8 MB 3.4 MB/s eta 0:00:01\n",
      "   -------------------------------- ------- 13.0/15.8 MB 3.4 MB/s eta 0:00:01\n",
      "   --------------------------------- ------ 13.2/15.8 MB 3.4 MB/s eta 0:00:01\n",
      "   --------------------------------- ------ 13.4/15.8 MB 3.4 MB/s eta 0:00:01\n",
      "   ---------------------------------- ----- 13.6/15.8 MB 3.4 MB/s eta 0:00:01\n",
      "   ---------------------------------- ----- 13.8/15.8 MB 3.7 MB/s eta 0:00:01\n",
      "   ----------------------------------- ---- 13.9/15.8 MB 3.7 MB/s eta 0:00:01\n",
      "   ----------------------------------- ---- 14.2/15.8 MB 3.7 MB/s eta 0:00:01\n",
      "   ------------------------------------ --- 14.4/15.8 MB 3.7 MB/s eta 0:00:01\n",
      "   ------------------------------------ --- 14.6/15.8 MB 3.7 MB/s eta 0:00:01\n",
      "   ------------------------------------- -- 14.8/15.8 MB 3.7 MB/s eta 0:00:01\n",
      "   ------------------------------------- -- 15.0/15.8 MB 3.7 MB/s eta 0:00:01\n",
      "   -------------------------------------- - 15.1/15.8 MB 3.7 MB/s eta 0:00:01\n",
      "   -------------------------------------- - 15.3/15.8 MB 3.8 MB/s eta 0:00:01\n",
      "   ---------------------------------------  15.6/15.8 MB 3.8 MB/s eta 0:00:01\n",
      "   ---------------------------------------  15.8/15.8 MB 3.8 MB/s eta 0:00:01\n",
      "   ---------------------------------------  15.8/15.8 MB 3.8 MB/s eta 0:00:01\n",
      "   ---------------------------------------- 15.8/15.8 MB 3.7 MB/s eta 0:00:00\n",
      "Installing collected packages: numpy\n",
      "Successfully installed numpy-1.26.4\n"
     ]
    },
    {
     "name": "stderr",
     "output_type": "stream",
     "text": [
      "  WARNING: The script f2py.exe is installed in 'C:\\Users\\Administrator\\AppData\\Roaming\\Python\\Python311\\Scripts' which is not on PATH.\n",
      "  Consider adding this directory to PATH or, if you prefer to suppress this warning, use --no-warn-script-location.\n",
      "ERROR: pip's dependency resolver does not currently take into account all the packages that are installed. This behaviour is the source of the following dependency conflicts.\n",
      "gensim 4.3.0 requires FuzzyTM>=0.4.0, which is not installed.\n",
      "tables 3.8.0 requires blosc2~=2.0.0, which is not installed.\n",
      "tables 3.8.0 requires cython>=0.29.21, which is not installed.\n",
      "numba 0.57.1 requires numpy<1.25,>=1.21, but you have numpy 1.26.4 which is incompatible.\n"
     ]
    },
    {
     "name": "stdout",
     "output_type": "stream",
     "text": [
      "Defaulting to user installation because normal site-packages is not writeable\n",
      "Requirement already satisfied: matplotlib in c:\\programdata\\anaconda3\\lib\\site-packages (3.7.2)\n",
      "Collecting matplotlib\n",
      "  Obtaining dependency information for matplotlib from https://files.pythonhosted.org/packages/a1/27/8a807464b0cf47fdf3ba8cbb542d4f3a551da0254d7588667857f8a8a88a/matplotlib-3.8.3-cp311-cp311-win_amd64.whl.metadata\n",
      "  Downloading matplotlib-3.8.3-cp311-cp311-win_amd64.whl.metadata (5.9 kB)\n",
      "Requirement already satisfied: contourpy>=1.0.1 in c:\\programdata\\anaconda3\\lib\\site-packages (from matplotlib) (1.0.5)\n",
      "Requirement already satisfied: cycler>=0.10 in c:\\programdata\\anaconda3\\lib\\site-packages (from matplotlib) (0.11.0)\n",
      "Requirement already satisfied: fonttools>=4.22.0 in c:\\programdata\\anaconda3\\lib\\site-packages (from matplotlib) (4.25.0)\n",
      "Requirement already satisfied: kiwisolver>=1.3.1 in c:\\programdata\\anaconda3\\lib\\site-packages (from matplotlib) (1.4.4)\n",
      "Requirement already satisfied: numpy<2,>=1.21 in c:\\users\\administrator\\appdata\\roaming\\python\\python311\\site-packages (from matplotlib) (1.26.4)\n",
      "Requirement already satisfied: packaging>=20.0 in c:\\programdata\\anaconda3\\lib\\site-packages (from matplotlib) (23.1)\n",
      "Requirement already satisfied: pillow>=8 in c:\\programdata\\anaconda3\\lib\\site-packages (from matplotlib) (9.4.0)\n",
      "Requirement already satisfied: pyparsing>=2.3.1 in c:\\programdata\\anaconda3\\lib\\site-packages (from matplotlib) (3.0.9)\n",
      "Requirement already satisfied: python-dateutil>=2.7 in c:\\programdata\\anaconda3\\lib\\site-packages (from matplotlib) (2.8.2)\n",
      "Requirement already satisfied: six>=1.5 in c:\\programdata\\anaconda3\\lib\\site-packages (from python-dateutil>=2.7->matplotlib) (1.16.0)\n",
      "Downloading matplotlib-3.8.3-cp311-cp311-win_amd64.whl (7.6 MB)\n",
      "   ---------------------------------------- 0.0/7.6 MB ? eta -:--:--\n",
      "   ---------------------------------------- 0.0/7.6 MB ? eta -:--:--\n",
      "   ---------------------------------------- 0.0/7.6 MB 325.1 kB/s eta 0:00:24\n",
      "   ---------------------------------------- 0.1/7.6 MB 465.5 kB/s eta 0:00:17\n",
      "   ---------------------------------------- 0.1/7.6 MB 581.0 kB/s eta 0:00:14\n",
      "    --------------------------------------- 0.1/7.6 MB 654.9 kB/s eta 0:00:12\n",
      "   - -------------------------------------- 0.2/7.6 MB 958.6 kB/s eta 0:00:08\n",
      "   - -------------------------------------- 0.3/7.6 MB 999.9 kB/s eta 0:00:08\n",
      "   -- ------------------------------------- 0.5/7.6 MB 1.4 MB/s eta 0:00:06\n",
      "   --- ------------------------------------ 0.7/7.6 MB 1.7 MB/s eta 0:00:05\n",
      "   ---- ----------------------------------- 0.8/7.6 MB 1.8 MB/s eta 0:00:04\n",
      "   ----- ---------------------------------- 1.0/7.6 MB 2.1 MB/s eta 0:00:04\n",
      "   ------ --------------------------------- 1.2/7.6 MB 2.3 MB/s eta 0:00:03\n",
      "   ------- -------------------------------- 1.4/7.6 MB 2.4 MB/s eta 0:00:03\n",
      "   -------- ------------------------------- 1.6/7.6 MB 2.5 MB/s eta 0:00:03\n",
      "   --------- ------------------------------ 1.8/7.6 MB 2.6 MB/s eta 0:00:03\n",
      "   ---------- ----------------------------- 2.0/7.6 MB 2.8 MB/s eta 0:00:03\n",
      "   ----------- ---------------------------- 2.2/7.6 MB 3.0 MB/s eta 0:00:02\n",
      "   ----------- ---------------------------- 2.2/7.6 MB 3.0 MB/s eta 0:00:02\n",
      "   ----------- ---------------------------- 2.2/7.6 MB 3.0 MB/s eta 0:00:02\n",
      "   ----------- ---------------------------- 2.2/7.6 MB 3.0 MB/s eta 0:00:02\n",
      "   ----------- ---------------------------- 2.2/7.6 MB 3.0 MB/s eta 0:00:02\n",
      "   ----------- ---------------------------- 2.2/7.6 MB 3.0 MB/s eta 0:00:02\n",
      "   ----------- ---------------------------- 2.2/7.6 MB 3.0 MB/s eta 0:00:02\n",
      "   ------------ --------------------------- 2.5/7.6 MB 2.2 MB/s eta 0:00:03\n",
      "   ------------- -------------------------- 2.6/7.6 MB 2.2 MB/s eta 0:00:03\n",
      "   -------------- ------------------------- 2.8/7.6 MB 2.3 MB/s eta 0:00:03\n",
      "   --------------- ------------------------ 3.0/7.6 MB 2.4 MB/s eta 0:00:02\n",
      "   ---------------- ----------------------- 3.1/7.6 MB 2.4 MB/s eta 0:00:02\n",
      "   ---------------- ----------------------- 3.2/7.6 MB 2.3 MB/s eta 0:00:02\n",
      "   ----------------- ---------------------- 3.4/7.6 MB 2.4 MB/s eta 0:00:02\n",
      "   ------------------ --------------------- 3.6/7.6 MB 2.4 MB/s eta 0:00:02\n",
      "   ------------------- -------------------- 3.8/7.6 MB 2.5 MB/s eta 0:00:02\n",
      "   -------------------- ------------------- 4.0/7.6 MB 2.6 MB/s eta 0:00:02\n",
      "   --------------------- ------------------ 4.2/7.6 MB 2.6 MB/s eta 0:00:02\n",
      "   ---------------------- ----------------- 4.4/7.6 MB 2.7 MB/s eta 0:00:02\n",
      "   ----------------------- ---------------- 4.6/7.6 MB 2.7 MB/s eta 0:00:02\n",
      "   ------------------------ --------------- 4.7/7.6 MB 2.8 MB/s eta 0:00:02\n",
      "   -------------------------- ------------- 5.0/7.6 MB 2.8 MB/s eta 0:00:01\n",
      "   --------------------------- ------------ 5.3/7.6 MB 2.9 MB/s eta 0:00:01\n",
      "   ----------------------------- ---------- 5.6/7.6 MB 3.0 MB/s eta 0:00:01\n",
      "   ------------------------------ --------- 5.8/7.6 MB 3.0 MB/s eta 0:00:01\n",
      "   ------------------------------- -------- 6.0/7.6 MB 3.1 MB/s eta 0:00:01\n",
      "   -------------------------------- ------- 6.2/7.6 MB 3.1 MB/s eta 0:00:01\n",
      "   --------------------------------- ------ 6.4/7.6 MB 3.1 MB/s eta 0:00:01\n",
      "   ---------------------------------- ----- 6.6/7.6 MB 3.2 MB/s eta 0:00:01\n",
      "   ----------------------------------- ---- 6.9/7.6 MB 3.2 MB/s eta 0:00:01\n",
      "   ------------------------------------- -- 7.1/7.6 MB 3.3 MB/s eta 0:00:01\n",
      "   -------------------------------------- - 7.3/7.6 MB 3.3 MB/s eta 0:00:01\n",
      "   ---------------------------------------  7.6/7.6 MB 3.3 MB/s eta 0:00:01\n",
      "   ---------------------------------------- 7.6/7.6 MB 3.3 MB/s eta 0:00:00\n",
      "Installing collected packages: matplotlib\n",
      "Successfully installed matplotlib-3.8.3\n",
      "Defaulting to user installation because normal site-packages is not writeable\n",
      "Requirement already satisfied: pandas in c:\\users\\administrator\\appdata\\roaming\\python\\python311\\site-packages (2.2.0)\n",
      "Requirement already satisfied: numpy<2,>=1.23.2 in c:\\users\\administrator\\appdata\\roaming\\python\\python311\\site-packages (from pandas) (1.26.4)\n",
      "Requirement already satisfied: python-dateutil>=2.8.2 in c:\\programdata\\anaconda3\\lib\\site-packages (from pandas) (2.8.2)\n",
      "Requirement already satisfied: pytz>=2020.1 in c:\\programdata\\anaconda3\\lib\\site-packages (from pandas) (2023.3.post1)\n",
      "Requirement already satisfied: tzdata>=2022.7 in c:\\programdata\\anaconda3\\lib\\site-packages (from pandas) (2023.3)\n",
      "Requirement already satisfied: six>=1.5 in c:\\programdata\\anaconda3\\lib\\site-packages (from python-dateutil>=2.8.2->pandas) (1.16.0)\n"
     ]
    }
   ],
   "source": [
    "# Instalujemy najnowsze wersje potrzebnych pakietów:\n",
    "!pip install --upgrade numpy\n",
    "!pip install --upgrade matplotlib\n",
    "!pip install --upgrade pandas"
   ]
  },
  {
   "cell_type": "markdown",
   "metadata": {},
   "source": [
    "# Obiektowa implementacja metody perceptronu"
   ]
  },
  {
   "cell_type": "markdown",
   "metadata": {},
   "source": [
    "Przyjmijmy **obiektowe podejście** i zdefiniujemy interfejs perceptronu jako **klasę języka Python**, pozwalającą na inicjowanie nowych obiektów `Perceptron`, które mogę uczyć się przy użyciu metody `fit` i dokonywać predykcji za pomocą oddzielnej metody `predict`.\n",
    "\n",
    "Dodajemy podkreślnik (`_`) do atrybutów, które nie są tworzone w momencie inicjalizowania obiektu, lecz w chwili wywoływania przez inne metody."
   ]
  },
  {
   "cell_type": "code",
   "execution_count": 5,
   "metadata": {},
   "outputs": [],
   "source": [
    "import numpy as np  # Wykorzystana do przekształceń z tablicami oraz do generowania liczb losowych\n",
    "\n",
    "\n",
    "class Perceptron:\n",
    "    \"\"\"Perceptron classifier.\n",
    "\n",
    "    Parameters\n",
    "    ------------\n",
    "    eta : float\n",
    "      Learning rate (between 0.0 and 1.0)\n",
    "    n_iter : int\n",
    "      Passes over the training dataset.\n",
    "    random_state : int\n",
    "      Random number generator seed for random weight initialization.\n",
    "\n",
    "    Attributes\n",
    "    -----------\n",
    "    w_ : 1d-array\n",
    "      Weights after fitting.\n",
    "    b_ : Scalar\n",
    "      Bias unit after fitting.\n",
    "    errors_ : list\n",
    "      Number of misclassifications (updates) in each epoch.\n",
    "\n",
    "    \"\"\"\n",
    "    def __init__(self, eta=0.01, n_iter=50, random_state=1):  # Metoda __init__ - konstruktor klasy\n",
    "        self.eta = eta\n",
    "        self.n_iter = n_iter\n",
    "        self.random_state = random_state\n",
    "\n",
    "    def fit(self, X, y):\n",
    "        \"\"\"Fit training data.\n",
    "\n",
    "        Parameters\n",
    "        ----------\n",
    "        X : {array-like}, shape = [n_examples, n_features]\n",
    "          Training vectors, where n_examples is the number of examples and\n",
    "          n_features is the number of features.\n",
    "        y : array-like, shape = [n_examples]\n",
    "          Target values.\n",
    "\n",
    "        Returns\n",
    "        -------\n",
    "        self : object\n",
    "\n",
    "        \"\"\"\n",
    "        rgen = np.random.RandomState(self.random_state)  # Generator liczb losowych NumPy, zainicjalizowany przez użytkownika\n",
    "        self.w_ = rgen.normal(loc=0.0, scale=0.01, size=X.shape[1])  # Inicjalizacja wag z rozkładu normalnego\n",
    "        self.b_ = np.float_(0.)  # Ustawienie wartości wyrazu wolnego na 0\n",
    "        \n",
    "        self.errors_ = []\n",
    "\n",
    "        for _ in range(self.n_iter):\n",
    "            errors = 0\n",
    "            for xi, target in zip(X, y):\n",
    "                update = self.eta * (target - self.predict(xi))\n",
    "                self.w_ += update * xi\n",
    "                self.b_ += update\n",
    "                errors += int(update != 0.0)\n",
    "            self.errors_.append(errors)\n",
    "        return self\n",
    "\n",
    "    def net_input(self, X):  # Oblicza całkowite wejście (suma ważona cech i wyrazu wolnego)\n",
    "        \"\"\"Calculate net input\"\"\"\n",
    "        return np.dot(X, self.w_) + self.b_  # np.dot liczy iloczyn wektorów\n",
    "\n",
    "    def predict(self, X):\n",
    "        \"\"\"Return class label after unit step\"\"\"\n",
    "        return np.where(self.net_input(X) >= 0.0, 1, 0)  # Jeśli wynik z net_input >= 0, przypisuje etykietę klasy 1, w p.p. 0"
   ]
  },
  {
   "cell_type": "markdown",
   "metadata": {},
   "source": [
    "Technicznie rzecz biorąc, moglibyśmy zainicjować wagi na zero (tak jest zresztą robione w oryginalnym algorytmie perceptronu). Wtedy jednak szybkość uczenia $\\eta$ nie miałaby żadnego wpływu na granicę decyzyjną. Omówimy to dokładniej w trakcie zajęć laboratoryjnych."
   ]
  },
  {
   "cell_type": "markdown",
   "metadata": {},
   "source": [
    "## Budowa modelu perceptronu na danych Iris"
   ]
  },
  {
   "cell_type": "markdown",
   "metadata": {},
   "source": [
    "Zbiór danych Iris:\n",
    "* 150 przykładów (każdy reprezentuje pojedynczy kwiat irysa),\n",
    "* cechy: długość działki kielicha (*sepal length*) - w centymetrach, szerokość działki kielicha (*sepal width*) - w centymetrach, długość płatka (*petal length*) - w centymetrach, szerokość płatka (*petal width*) - w centymetrach,\n",
    "* zmienna *class* - trzy gatunki irysów: setosa, virginica, versicolor,\n",
    "* każdy gatunek kwiatu irysa jest reprezentowany przez 50 próbek."
   ]
  },
  {
   "cell_type": "markdown",
   "metadata": {},
   "source": [
    "### Wczytanie zbioru danych Iris"
   ]
  },
  {
   "cell_type": "code",
   "execution_count": 6,
   "metadata": {},
   "outputs": [
    {
     "name": "stdout",
     "output_type": "stream",
     "text": [
      "From URL: https://archive.ics.uci.edu/ml/machine-learning-databases/iris/iris.data\n"
     ]
    }
   ],
   "source": [
    "import os\n",
    "import pandas as pd\n",
    "\n",
    "try:\n",
    "    s = 'https://archive.ics.uci.edu/ml/machine-learning-databases/iris/iris.data'\n",
    "    print('From URL:', s)\n",
    "    df = pd.read_csv(s,\n",
    "                     header=None,  # Plik nie zawiera wiersza nagłówkowego z nazwami kolumn\n",
    "                     encoding='utf-8')  # Określa kodowanie znaków pliku\n",
    "    \n",
    "except HTTPError:\n",
    "    s = 'iris.data'\n",
    "    print('From local Iris path:', s)\n",
    "    # Wczytanie danych z lokalnej ścieżki:\n",
    "    df = pd.read_csv(s,\n",
    "                     header=None,\n",
    "                     encoding='utf-8')"
   ]
  },
  {
   "cell_type": "code",
   "execution_count": 8,
   "metadata": {},
   "outputs": [
    {
     "data": {
      "text/html": [
       "<div>\n",
       "<style scoped>\n",
       "    .dataframe tbody tr th:only-of-type {\n",
       "        vertical-align: middle;\n",
       "    }\n",
       "\n",
       "    .dataframe tbody tr th {\n",
       "        vertical-align: top;\n",
       "    }\n",
       "\n",
       "    .dataframe thead th {\n",
       "        text-align: right;\n",
       "    }\n",
       "</style>\n",
       "<table border=\"1\" class=\"dataframe\">\n",
       "  <thead>\n",
       "    <tr style=\"text-align: right;\">\n",
       "      <th></th>\n",
       "      <th>0</th>\n",
       "      <th>1</th>\n",
       "      <th>2</th>\n",
       "      <th>3</th>\n",
       "      <th>4</th>\n",
       "    </tr>\n",
       "  </thead>\n",
       "  <tbody>\n",
       "    <tr>\n",
       "      <th>145</th>\n",
       "      <td>6.7</td>\n",
       "      <td>3.0</td>\n",
       "      <td>5.2</td>\n",
       "      <td>2.3</td>\n",
       "      <td>Iris-virginica</td>\n",
       "    </tr>\n",
       "    <tr>\n",
       "      <th>146</th>\n",
       "      <td>6.3</td>\n",
       "      <td>2.5</td>\n",
       "      <td>5.0</td>\n",
       "      <td>1.9</td>\n",
       "      <td>Iris-virginica</td>\n",
       "    </tr>\n",
       "    <tr>\n",
       "      <th>147</th>\n",
       "      <td>6.5</td>\n",
       "      <td>3.0</td>\n",
       "      <td>5.2</td>\n",
       "      <td>2.0</td>\n",
       "      <td>Iris-virginica</td>\n",
       "    </tr>\n",
       "    <tr>\n",
       "      <th>148</th>\n",
       "      <td>6.2</td>\n",
       "      <td>3.4</td>\n",
       "      <td>5.4</td>\n",
       "      <td>2.3</td>\n",
       "      <td>Iris-virginica</td>\n",
       "    </tr>\n",
       "    <tr>\n",
       "      <th>149</th>\n",
       "      <td>5.9</td>\n",
       "      <td>3.0</td>\n",
       "      <td>5.1</td>\n",
       "      <td>1.8</td>\n",
       "      <td>Iris-virginica</td>\n",
       "    </tr>\n",
       "  </tbody>\n",
       "</table>\n",
       "</div>"
      ],
      "text/plain": [
       "       0    1    2    3               4\n",
       "145  6.7  3.0  5.2  2.3  Iris-virginica\n",
       "146  6.3  2.5  5.0  1.9  Iris-virginica\n",
       "147  6.5  3.0  5.2  2.0  Iris-virginica\n",
       "148  6.2  3.4  5.4  2.3  Iris-virginica\n",
       "149  5.9  3.0  5.1  1.8  Iris-virginica"
      ]
     },
     "execution_count": 8,
     "metadata": {},
     "output_type": "execute_result"
    }
   ],
   "source": [
    "df.tail()"
   ]
  },
  {
   "cell_type": "code",
   "execution_count": null,
   "metadata": {},
   "outputs": [],
   "source": [
    "# W razie problemów z pobraniem danych z Internetu:\n",
    "df = pd.read_csv('your/local/path/to/iris.data', header=None, encoding='utf-8')"
   ]
  },
  {
   "cell_type": "markdown",
   "metadata": {},
   "source": [
    "Do analizy bierzemy pierwszych 100 przykładów (50 kwiatów typu Iris-setosa i 50 Iris-versicolor) i konwertujemy etykiety klas na `1` (versicolor) i `0` (setosa). Nowe etykiety zapisujemy w wektorze `y`.\n",
    "Ponadto ekstrahujemy pierwszą kolumnę (długość kielicha) i trzecią kolumnę (długość płatka) z tych 100 przykładów treningowych i tworzymy z nich macierz cech `X`."
   ]
  },
  {
   "cell_type": "code",
   "execution_count": 7,
   "metadata": {},
   "outputs": [],
   "source": [
    "import numpy as np\n",
    "\n",
    "# Wydzielamy dwa gatunki (setosa oraz versicolor):\n",
    "y = df.iloc[0:100, 4].values  # Wybiera wiersze od 0 do 99 i 5-tą kolumnę\n",
    "                              # Metoda .values konwertuje tę kolumnę na tablicę NumPy\n",
    "y = np.where(y == 'Iris-setosa', 0, 1)\n",
    "\n",
    "# Wydzielamy dwie cechy (sepal length oraz petal length):\n",
    "X = df.iloc[0:100, [0, 2]].values"
   ]
  },
  {
   "cell_type": "markdown",
   "metadata": {},
   "source": [
    "### Wykres analizowanego zbioru danych"
   ]
  },
  {
   "cell_type": "code",
   "execution_count": 8,
   "metadata": {},
   "outputs": [
    {
     "data": {
      "image/png": "[encoded data removed]",
      "text/plain": [
       "<Figure size 640x480 with 1 Axes>"
      ]
     },
     "metadata": {},
     "output_type": "display_data"
    }
   ],
   "source": [
    "# %matplotlib inline\n",
    "import matplotlib.pyplot as plt\n",
    "\n",
    "# Wykres rozrzutu wybranych danych:\n",
    "plt.scatter(X[:50, 0], X[:50, 1],\n",
    "            color='red', marker='o', label='Setosa')\n",
    "\n",
    "plt.scatter(X[50:100, 0], X[50:100, 1],\n",
    "            color='blue', marker='s', label='Versicolor')\n",
    "\n",
    "plt.xlabel('Sepal length [cm]')\n",
    "plt.ylabel('Petal length [cm]')\n",
    "plt.legend(loc='upper left')\n",
    "\n",
    "plt.show()"
   ]
  },
  {
   "cell_type": "markdown",
   "metadata": {},
   "source": [
    "### Budowa (uczenie) modelu perceptronu"
   ]
  },
  {
   "cell_type": "markdown",
   "metadata": {},
   "source": [
    "Budujemy model perceptronu oraz rysujemy wykres liczby błędów (błędnie sklasyfikowanych przykładów) dla kolejnych epok uczenia modelu."
   ]
  },
  {
   "cell_type": "code",
   "execution_count": 16,
   "metadata": {},
   "outputs": [
    {
     "data": {
      "image/png": "[encoded data removed]",
      "text/plain": [
       "<Figure size 640x480 with 1 Axes>"
      ]
     },
     "metadata": {},
     "output_type": "display_data"
    }
   ],
   "source": [
    "ppn = Perceptron(eta=0.1, n_iter=10)  # Tworzymy instancję klasy Perceptron\n",
    "\n",
    "ppn.fit(X, y)  # Za pomocą metody fit uczeymy model perceptronu\n",
    "\n",
    "plt.plot(range(1, len(ppn.errors_) + 1), ppn.errors_, marker='o')\n",
    "plt.xlabel('Epochs')\n",
    "plt.ylabel('Number of errors')  # Number of errors = Number of updates\n",
    "\n",
    "plt.show()"
   ]
  },
  {
   "cell_type": "code",
   "execution_count": 19,
   "metadata": {},
   "outputs": [
    {
     "name": "stdout",
     "output_type": "stream",
     "text": [
      "[-0.35375655  0.91388244]\n",
      "-0.2\n"
     ]
    }
   ],
   "source": [
    "print(ppn.w_)\n",
    "print(ppn.b_)"
   ]
  },
  {
   "cell_type": "markdown",
   "metadata": {},
   "source": [
    "Perceptron rozdzielił obie klasy w szóstej epoce."
   ]
  },
  {
   "cell_type": "markdown",
   "metadata": {},
   "source": [
    "### Wizualizacja obszarów decyzyjnych klasyfikatora"
   ]
  },
  {
   "cell_type": "markdown",
   "metadata": {},
   "source": [
    "Poniższy kod przedstawia implementację funkcji, która wizualizuje granicę decyzyjną klasyfikatora dla dwuwymiarowej przestrzeni cech."
   ]
  },
  {
   "cell_type": "code",
   "execution_count": 23,
   "metadata": {},
   "outputs": [],
   "source": [
    "from matplotlib.colors import ListedColormap\n",
    "\n",
    "\n",
    "def plot_decision_regions(X, y, classifier, resolution=0.02):  # resolution - rozmiar kroku siatki do wizualizacji przestrzeni\n",
    "\n",
    "    # Definiujemy listy markerów i kolorów, które będą używane do reprezentowania różnych klas na wykresie:\n",
    "    markers = ('o', 's', '^', 'v', '<')\n",
    "    colors = ('red', 'blue', 'lightgreen', 'gray', 'cyan')\n",
    "    # Tworzymy mapę kolorów ListedColormap na podstawie kolorów określonych w colors. \n",
    "    # cmap to obiekt, który Matplotlib używa do mapowania liczb na kolory\n",
    "    cmap = ListedColormap(colors[:len(np.unique(y))])\n",
    "\n",
    "    # Wykres obszarów decyzyjnych:\n",
    "    x1_min, x1_max = X[:, 0].min() - 1, X[:, 0].max() + 1\n",
    "    x2_min, x2_max = X[:, 1].min() - 1, X[:, 1].max() + 1  # Określamy zakresy wartości dla obu cech (-/+ 1)\n",
    "    xx1, xx2 = np.meshgrid(np.arange(x1_min, x1_max, resolution),\n",
    "                           np.arange(x2_min, x2_max, resolution))  # Tworzymy dwuwymiarową siatkę punktów do wizualizacji przestrzeni cech\n",
    "    lab = classifier.predict(np.array([xx1.ravel(), xx2.ravel()]).T)  # Liczymy predykcje dla każdego punktu siatki\n",
    "    lab = lab.reshape(xx1.shape)\n",
    "    plt.contourf(xx1, xx2, lab, alpha=0.3, cmap=cmap)  # Rysowanie konturu granic decyzyjnych\n",
    "    plt.xlim(xx1.min(), xx1.max())\n",
    "    plt.ylim(xx2.min(), xx2.max())  # Ustawiono granice osi wykresu\n",
    "\n",
    "    # Rysowanie przykładów z rozważanych klas:\n",
    "    for idx, cl in enumerate(np.unique(y)):\n",
    "        plt.scatter(x=X[y == cl, 0], \n",
    "                    y=X[y == cl, 1],\n",
    "                    alpha=0.8, \n",
    "                    c=colors[idx],\n",
    "                    marker=markers[idx], \n",
    "                    label=f'Class {cl}', \n",
    "                    edgecolor='black')"
   ]
  },
  {
   "cell_type": "code",
   "execution_count": 26,
   "metadata": {},
   "outputs": [
    {
     "data": {
      "image/png": "[encoded data removed]",
      "text/plain": [
       "<Figure size 640x480 with 1 Axes>"
      ]
     },
     "metadata": {},
     "output_type": "display_data"
    }
   ],
   "source": [
    "# Generujemy wykres dla naszego modelu perceptronu:\n",
    "plot_decision_regions(X, y, classifier=ppn)\n",
    "plt.xlabel('Sepal length [cm]')\n",
    "plt.ylabel('Petal length [cm]')\n",
    "plt.legend(loc='upper left')\n",
    "\n",
    "plt.show()"
   ]
  }
 ],
 "metadata": {
  "anaconda-cloud": {},
  "kernelspec": {
   "display_name": "Python 3 (ipykernel)",
   "language": "python",
   "name": "python3"
  },
  "language_info": {
   "codemirror_mode": {
    "name": "ipython",
    "version": 3
   },
   "file_extension": ".py",
   "mimetype": "text/x-python",
   "name": "python",
   "nbconvert_exporter": "python",
   "pygments_lexer": "ipython3",
   "version": "3.11.8"
  }
 },
 "nbformat": 4,
 "nbformat_minor": 4
}
