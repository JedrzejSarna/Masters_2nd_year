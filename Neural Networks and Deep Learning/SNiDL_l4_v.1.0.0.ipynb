{
 "cells": [
  {
   "cell_type": "markdown",
   "metadata": {
    "tags": []
   },
   "source": [
    "# Sieci neuronowe i Deep Learning\n",
    "# Temat 4: Biblioteka PyTorch - wprowadzenie"
   ]
  },
  {
   "cell_type": "markdown",
   "metadata": {},
   "source": [
    "## Zadanie 4.1\n",
    "\n",
    "1. (**Generowanie danych**).\n",
    "Stworzyć tensor `data_tensor` o wymiarach `(5, 3)`, który zawiera losowe liczby z przedziału od 0 do 10. Użyć funkcji `torch.randint()`.\n",
    "\n",
    "2. (**Podstawowa analiza**).\n",
    "Oblicz średnią wszystkich elementów w `data_tensor`.\n",
    "Znaleźć maksymalną wartość w każdym wierszu tego tensora oraz indeksy tych maksymalnych wartości. Wykorzystać do tego celu funkcję `torch.max()` z odpowiednimi argumentami.\n",
    "\n",
    "3. (**Dalsze przekształcenia**).\n",
    "Znormalizować\n",
    "`data_tensor`, tak aby wartości w każdym wierszu sumowały się do 1 (lub do 0, jeśli na wejściu cały wiersz składa się z samych zer). To oznacza, że każdy element wiersza należy podzielić przez sumę elementów w danym wierszu. \n",
    "Zadbać o to, aby kod był wykonywalny także we wspomnianym przypadku wiersza złożonego z samych zer, na przykład poprzez dodanie bardzo małej wartości (np. `1e-9`) do mianownika.\n",
    "\n",
    "4. (**Sortowanie**).\n",
    "Zaimplementować funkcję, która przyjmie tensor jako argument i zwraca tensor, w którym każdy wiersz jest posortowany rosnąco. Wykorzystać do tego celu funkcję `torch.sort()`."
   ]
  },
  {
   "cell_type": "markdown",
   "metadata": {},
   "source": [
    "## Zadanie 4.2\n",
    "\n",
    "Stworzyć tensor o wymiarach `(3, 4, 2)` zawierający losowe wartości całkowite z przedziału od 1 do 100 (wyświetlić utworzony tensor). Następnie zamienić w nim drugi wymiar z trzecim (wyświetlić tensor po zamianie) i zmień kształt otrzymanego tensora na `(4, 6)`, łącząc odpowiednio jego elementy (także wyświetlić otrzymany tensor)."
   ]
  },
  {
   "cell_type": "markdown",
   "metadata": {},
   "source": [
    "## Zadanie 4.3\n",
    "\n",
    "Utworzyć tensor `t` o wymiarach `(6, 10)`, zawierający losowe liczby z przedziału od 0 do 1. Podzielić ten tensora na dwie równe części wzdłuż kolumn, a następnie połączyć te części w jeden tensor wzdłuż nowego wymiaru, tak aby otrzymać tensor o rozmiarze `(2, 6, 5)`. Wyświetlić tensory z wszystkich etapów przekształcenia.\n",
    "Sprawdzić rozmiar powstałego tensora za pomocą metody `shape`."
   ]
  },
  {
   "cell_type": "markdown",
   "metadata": {},
   "source": [
    "## Zadanie 4.4\n",
    "\n",
    "Przeanalizować kod **Tworzenie zbioru danych z plików z lokalnego dysku** z notebooka z wykładu 4."
   ]
  },
  {
   "cell_type": "markdown",
   "metadata": {},
   "source": [
    "## Zadanie 4.5*\n",
    "\n",
    "Wzorując się na fragmencie kodu ,,Tworzenie zbioru danych z plików z lokalnego dysku”,\n",
    "- utworzyć katalog z własnymi grafikami (podobnych rozmiarów, ale nie takich samych, około 10 sztuk, dotyczących dwóch klas, które da się zidentyfikować po nazwach plików),\n",
    "- utworzyć listę ścieżek do tych plików,\n",
    "- wyświetlić obrazy z powyższej listy ścieżek,\n",
    "- stworzyć etykiety liczbowe (np. `0` i `1`) dla rozważanych obrazów,\n",
    "- połączyć listę nazw plików (lub ścieżek) z listą etykiet (utworzyć odpowiednią klasę, która dziedziczy po klasie `torch.utils.data.Dataset`),\n",
    "- utworzyć łańcuch transformacji obrazów za pomocą PyTorch i modułu `torchvision` (funkcja `transforms.Compose()`): konwersja obrazu do tensorów + zmiana rozmiaru każdego obrazu do ustalonych wcześniej wartości,\n",
    "- dodać powyższe przekształcenie do zdefiniowanej wcześniej klasy typu Dataset i utworzyć instancję zaktualizowanej klasy,\n",
    "- wyświetlić przekształcone obrazy."
   ]
  }
 ],
 "metadata": {
  "anaconda-cloud": {},
  "kernelspec": {
   "display_name": "Python 3 (ipykernel)",
   "language": "python",
   "name": "python3"
  },
  "language_info": {
   "codemirror_mode": {
    "name": "ipython",
    "version": 3
   },
   "file_extension": ".py",
   "mimetype": "text/x-python",
   "name": "python",
   "nbconvert_exporter": "python",
   "pygments_lexer": "ipython3",
   "version": "3.11.5"
  }
 },
 "nbformat": 4,
 "nbformat_minor": 4
}
