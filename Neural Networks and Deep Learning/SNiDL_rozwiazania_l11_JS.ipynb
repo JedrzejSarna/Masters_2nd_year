{
  "cells": [
    {
      "cell_type": "markdown",
      "metadata": {
        "id": "7G8tgfzBAkVd"
      },
      "source": [
        "# Sieci neuronowe i Deep Learning\n"
      ]
    },
    {
      "cell_type": "markdown",
      "metadata": {
        "id": "a4gXerqKAkVg"
      },
      "source": [
        "## Zadanie 11.1\n",
        "\n",
        "Celem tego zadania jest próba ulepszenia sieci zbudowanej w ramach poprzednich zajęć (chodzi o przykładową, gotową architekturę, patrz fragment kodu wklejony poniżej).\n",
        "\n",
        "Sprawdzić następujące propozycje modyfikacji istniejącej sieci. Wybrać te, które zwiększają dokładność predykcyjną modelu (uczenie prowadzić przez 10 epok (lub więcej) przy `batch_size = 32`).\n",
        "\n",
        "1. Zwiększenie wymiaru wektorów embedding (`embed_dim`) może pozwolić modelowi na uchwycenie bardziej złożonych relacji między słowami.\n",
        "2. Zwiększenie liczby jednostek w warstwie LSTM (`rnn_hidden_size`) może poprawić zdolność modelu do zapamiętywania długich sekwencji.\n",
        "3. Dodanie kolejnej warstwy LSTM może pomóc modelowi w lepszym uchwyceniu zależności w sekwencjach.\n",
        "4. Dodanie warstw Dropout pomiędzy warstwami może pomóc w zapobieganiu przeuczeniu modelu.\n",
        "5. Zamiast ReLU, można spróbować użyć innych funkcji aktywacji, takich jak LeakyReLU lub ELU.\n",
        "\n",
        "Pamiętać o optymalizacji tempa uczenia."
      ]
    },
    {
      "cell_type": "code",
      "execution_count": null,
      "metadata": {
        "colab": {
          "base_uri": "https://localhost:8080/"
        },
        "id": "1unGVgqEAkVh",
        "outputId": "c4b14957-53d0-4523-9dc0-8aca6aef03c6"
      },
      "outputs": [
        {
          "name": "stdout",
          "output_type": "stream",
          "text": [
            "Collecting torch==2.2.0.\n",
            "  Downloading torch-2.2.0-cp310-cp310-manylinux1_x86_64.whl (755.5 MB)\n",
            "\u001b[2K     \u001b[90m━━━━━━━━━━━━━━━━━━━━━━━━━━━━━━━━━━━━━━━━\u001b[0m \u001b[32m755.5/755.5 MB\u001b[0m \u001b[31m1.5 MB/s\u001b[0m eta \u001b[36m0:00:00\u001b[0m\n",
            "\u001b[?25hRequirement already satisfied: filelock in /usr/local/lib/python3.10/dist-packages (from torch==2.2.0.) (3.14.0)\n",
            "Requirement already satisfied: typing-extensions>=4.8.0 in /usr/local/lib/python3.10/dist-packages (from torch==2.2.0.) (4.12.1)\n",
            "Requirement already satisfied: sympy in /usr/local/lib/python3.10/dist-packages (from torch==2.2.0.) (1.12.1)\n",
            "Requirement already satisfied: networkx in /usr/local/lib/python3.10/dist-packages (from torch==2.2.0.) (3.3)\n",
            "Requirement already satisfied: jinja2 in /usr/local/lib/python3.10/dist-packages (from torch==2.2.0.) (3.1.4)\n",
            "Requirement already satisfied: fsspec in /usr/local/lib/python3.10/dist-packages (from torch==2.2.0.) (2023.6.0)\n",
            "Collecting nvidia-cuda-nvrtc-cu12==12.1.105 (from torch==2.2.0.)\n",
            "  Using cached nvidia_cuda_nvrtc_cu12-12.1.105-py3-none-manylinux1_x86_64.whl (23.7 MB)\n",
            "Collecting nvidia-cuda-runtime-cu12==12.1.105 (from torch==2.2.0.)\n",
            "  Using cached nvidia_cuda_runtime_cu12-12.1.105-py3-none-manylinux1_x86_64.whl (823 kB)\n",
            "Collecting nvidia-cuda-cupti-cu12==12.1.105 (from torch==2.2.0.)\n",
            "  Using cached nvidia_cuda_cupti_cu12-12.1.105-py3-none-manylinux1_x86_64.whl (14.1 MB)\n",
            "Collecting nvidia-cudnn-cu12==8.9.2.26 (from torch==2.2.0.)\n",
            "  Using cached nvidia_cudnn_cu12-8.9.2.26-py3-none-manylinux1_x86_64.whl (731.7 MB)\n",
            "Collecting nvidia-cublas-cu12==12.1.3.1 (from torch==2.2.0.)\n",
            "  Using cached nvidia_cublas_cu12-12.1.3.1-py3-none-manylinux1_x86_64.whl (410.6 MB)\n",
            "Collecting nvidia-cufft-cu12==11.0.2.54 (from torch==2.2.0.)\n",
            "  Using cached nvidia_cufft_cu12-11.0.2.54-py3-none-manylinux1_x86_64.whl (121.6 MB)\n",
            "Collecting nvidia-curand-cu12==10.3.2.106 (from torch==2.2.0.)\n",
            "  Using cached nvidia_curand_cu12-10.3.2.106-py3-none-manylinux1_x86_64.whl (56.5 MB)\n",
            "Collecting nvidia-cusolver-cu12==11.4.5.107 (from torch==2.2.0.)\n",
            "  Using cached nvidia_cusolver_cu12-11.4.5.107-py3-none-manylinux1_x86_64.whl (124.2 MB)\n",
            "Collecting nvidia-cusparse-cu12==12.1.0.106 (from torch==2.2.0.)\n",
            "  Using cached nvidia_cusparse_cu12-12.1.0.106-py3-none-manylinux1_x86_64.whl (196.0 MB)\n",
            "Collecting nvidia-nccl-cu12==2.19.3 (from torch==2.2.0.)\n",
            "  Downloading nvidia_nccl_cu12-2.19.3-py3-none-manylinux1_x86_64.whl (166.0 MB)\n",
            "\u001b[2K     \u001b[90m━━━━━━━━━━━━━━━━━━━━━━━━━━━━━━━━━━━━━━━━\u001b[0m \u001b[32m166.0/166.0 MB\u001b[0m \u001b[31m7.4 MB/s\u001b[0m eta \u001b[36m0:00:00\u001b[0m\n",
            "\u001b[?25hCollecting nvidia-nvtx-cu12==12.1.105 (from torch==2.2.0.)\n",
            "  Using cached nvidia_nvtx_cu12-12.1.105-py3-none-manylinux1_x86_64.whl (99 kB)\n",
            "Collecting triton==2.2.0 (from torch==2.2.0.)\n",
            "  Downloading triton-2.2.0-cp310-cp310-manylinux_2_17_x86_64.manylinux2014_x86_64.whl (167.9 MB)\n",
            "\u001b[2K     \u001b[90m━━━━━━━━━━━━━━━━━━━━━━━━━━━━━━━━━━━━━━━━\u001b[0m \u001b[32m167.9/167.9 MB\u001b[0m \u001b[31m7.2 MB/s\u001b[0m eta \u001b[36m0:00:00\u001b[0m\n",
            "\u001b[?25hCollecting nvidia-nvjitlink-cu12 (from nvidia-cusolver-cu12==11.4.5.107->torch==2.2.0.)\n",
            "  Downloading nvidia_nvjitlink_cu12-12.5.40-py3-none-manylinux2014_x86_64.whl (21.3 MB)\n",
            "\u001b[2K     \u001b[90m━━━━━━━━━━━━━━━━━━━━━━━━━━━━━━━━━━━━━━━━\u001b[0m \u001b[32m21.3/21.3 MB\u001b[0m \u001b[31m32.4 MB/s\u001b[0m eta \u001b[36m0:00:00\u001b[0m\n",
            "\u001b[?25hRequirement already satisfied: MarkupSafe>=2.0 in /usr/local/lib/python3.10/dist-packages (from jinja2->torch==2.2.0.) (2.1.5)\n",
            "Requirement already satisfied: mpmath<1.4.0,>=1.1.0 in /usr/local/lib/python3.10/dist-packages (from sympy->torch==2.2.0.) (1.3.0)\n",
            "Installing collected packages: triton, nvidia-nvtx-cu12, nvidia-nvjitlink-cu12, nvidia-nccl-cu12, nvidia-curand-cu12, nvidia-cufft-cu12, nvidia-cuda-runtime-cu12, nvidia-cuda-nvrtc-cu12, nvidia-cuda-cupti-cu12, nvidia-cublas-cu12, nvidia-cusparse-cu12, nvidia-cudnn-cu12, nvidia-cusolver-cu12, torch\n",
            "  Attempting uninstall: triton\n",
            "    Found existing installation: triton 2.3.0\n",
            "    Uninstalling triton-2.3.0:\n",
            "      Successfully uninstalled triton-2.3.0\n",
            "  Attempting uninstall: torch\n",
            "    Found existing installation: torch 2.3.0+cu121\n",
            "    Uninstalling torch-2.3.0+cu121:\n",
            "      Successfully uninstalled torch-2.3.0+cu121\n",
            "\u001b[31mERROR: pip's dependency resolver does not currently take into account all the packages that are installed. This behaviour is the source of the following dependency conflicts.\n",
            "torchaudio 2.3.0+cu121 requires torch==2.3.0, but you have torch 2.2.0 which is incompatible.\n",
            "torchtext 0.18.0 requires torch>=2.3.0, but you have torch 2.2.0 which is incompatible.\n",
            "torchvision 0.18.0+cu121 requires torch==2.3.0, but you have torch 2.2.0 which is incompatible.\u001b[0m\u001b[31m\n",
            "\u001b[0mSuccessfully installed nvidia-cublas-cu12-12.1.3.1 nvidia-cuda-cupti-cu12-12.1.105 nvidia-cuda-nvrtc-cu12-12.1.105 nvidia-cuda-runtime-cu12-12.1.105 nvidia-cudnn-cu12-8.9.2.26 nvidia-cufft-cu12-11.0.2.54 nvidia-curand-cu12-10.3.2.106 nvidia-cusolver-cu12-11.4.5.107 nvidia-cusparse-cu12-12.1.0.106 nvidia-nccl-cu12-2.19.3 nvidia-nvjitlink-cu12-12.5.40 nvidia-nvtx-cu12-12.1.105 torch-2.2.0 triton-2.2.0\n"
          ]
        }
      ],
      "source": [
        "!pip install torch==2.2.0."
      ]
    },
    {
      "cell_type": "code",
      "execution_count": null,
      "metadata": {
        "id": "vN8O6iNfAkVl"
      },
      "outputs": [],
      "source": [
        "import torch\n",
        "import torch.nn as nn"
      ]
    },
    {
      "cell_type": "code",
      "execution_count": null,
      "metadata": {
        "colab": {
          "base_uri": "https://localhost:8080/"
        },
        "id": "wHt55TvuAkVm",
        "outputId": "7cbe1d42-5a04-4964-81fd-ac64f5738195"
      },
      "outputs": [
        {
          "name": "stdout",
          "output_type": "stream",
          "text": [
            "Collecting torchtext==0.17.0\n",
            "  Downloading torchtext-0.17.0-cp310-cp310-manylinux1_x86_64.whl (2.0 MB)\n",
            "\u001b[2K     \u001b[90m━━━━━━━━━━━━━━━━━━━━━━━━━━━━━━━━━━━━━━━━\u001b[0m \u001b[32m2.0/2.0 MB\u001b[0m \u001b[31m20.4 MB/s\u001b[0m eta \u001b[36m0:00:00\u001b[0m\n",
            "\u001b[?25hRequirement already satisfied: tqdm in /usr/local/lib/python3.10/dist-packages (from torchtext==0.17.0) (4.66.4)\n",
            "Requirement already satisfied: requests in /usr/local/lib/python3.10/dist-packages (from torchtext==0.17.0) (2.31.0)\n",
            "Requirement already satisfied: torch==2.2.0 in /usr/local/lib/python3.10/dist-packages (from torchtext==0.17.0) (2.2.0)\n",
            "Requirement already satisfied: numpy in /usr/local/lib/python3.10/dist-packages (from torchtext==0.17.0) (1.25.2)\n",
            "Collecting torchdata==0.7.1 (from torchtext==0.17.0)\n",
            "  Downloading torchdata-0.7.1-cp310-cp310-manylinux_2_17_x86_64.manylinux2014_x86_64.whl (4.7 MB)\n",
            "\u001b[2K     \u001b[90m━━━━━━━━━━━━━━━━━━━━━━━━━━━━━━━━━━━━━━━━\u001b[0m \u001b[32m4.7/4.7 MB\u001b[0m \u001b[31m48.4 MB/s\u001b[0m eta \u001b[36m0:00:00\u001b[0m\n",
            "\u001b[?25hRequirement already satisfied: filelock in /usr/local/lib/python3.10/dist-packages (from torch==2.2.0->torchtext==0.17.0) (3.14.0)\n",
            "Requirement already satisfied: typing-extensions>=4.8.0 in /usr/local/lib/python3.10/dist-packages (from torch==2.2.0->torchtext==0.17.0) (4.12.1)\n",
            "Requirement already satisfied: sympy in /usr/local/lib/python3.10/dist-packages (from torch==2.2.0->torchtext==0.17.0) (1.12.1)\n",
            "Requirement already satisfied: networkx in /usr/local/lib/python3.10/dist-packages (from torch==2.2.0->torchtext==0.17.0) (3.3)\n",
            "Requirement already satisfied: jinja2 in /usr/local/lib/python3.10/dist-packages (from torch==2.2.0->torchtext==0.17.0) (3.1.4)\n",
            "Requirement already satisfied: fsspec in /usr/local/lib/python3.10/dist-packages (from torch==2.2.0->torchtext==0.17.0) (2023.6.0)\n",
            "Requirement already satisfied: nvidia-cuda-nvrtc-cu12==12.1.105 in /usr/local/lib/python3.10/dist-packages (from torch==2.2.0->torchtext==0.17.0) (12.1.105)\n",
            "Requirement already satisfied: nvidia-cuda-runtime-cu12==12.1.105 in /usr/local/lib/python3.10/dist-packages (from torch==2.2.0->torchtext==0.17.0) (12.1.105)\n",
            "Requirement already satisfied: nvidia-cuda-cupti-cu12==12.1.105 in /usr/local/lib/python3.10/dist-packages (from torch==2.2.0->torchtext==0.17.0) (12.1.105)\n",
            "Requirement already satisfied: nvidia-cudnn-cu12==8.9.2.26 in /usr/local/lib/python3.10/dist-packages (from torch==2.2.0->torchtext==0.17.0) (8.9.2.26)\n",
            "Requirement already satisfied: nvidia-cublas-cu12==12.1.3.1 in /usr/local/lib/python3.10/dist-packages (from torch==2.2.0->torchtext==0.17.0) (12.1.3.1)\n",
            "Requirement already satisfied: nvidia-cufft-cu12==11.0.2.54 in /usr/local/lib/python3.10/dist-packages (from torch==2.2.0->torchtext==0.17.0) (11.0.2.54)\n",
            "Requirement already satisfied: nvidia-curand-cu12==10.3.2.106 in /usr/local/lib/python3.10/dist-packages (from torch==2.2.0->torchtext==0.17.0) (10.3.2.106)\n",
            "Requirement already satisfied: nvidia-cusolver-cu12==11.4.5.107 in /usr/local/lib/python3.10/dist-packages (from torch==2.2.0->torchtext==0.17.0) (11.4.5.107)\n",
            "Requirement already satisfied: nvidia-cusparse-cu12==12.1.0.106 in /usr/local/lib/python3.10/dist-packages (from torch==2.2.0->torchtext==0.17.0) (12.1.0.106)\n",
            "Requirement already satisfied: nvidia-nccl-cu12==2.19.3 in /usr/local/lib/python3.10/dist-packages (from torch==2.2.0->torchtext==0.17.0) (2.19.3)\n",
            "Requirement already satisfied: nvidia-nvtx-cu12==12.1.105 in /usr/local/lib/python3.10/dist-packages (from torch==2.2.0->torchtext==0.17.0) (12.1.105)\n",
            "Requirement already satisfied: triton==2.2.0 in /usr/local/lib/python3.10/dist-packages (from torch==2.2.0->torchtext==0.17.0) (2.2.0)\n",
            "Requirement already satisfied: urllib3>=1.25 in /usr/local/lib/python3.10/dist-packages (from torchdata==0.7.1->torchtext==0.17.0) (2.0.7)\n",
            "Requirement already satisfied: nvidia-nvjitlink-cu12 in /usr/local/lib/python3.10/dist-packages (from nvidia-cusolver-cu12==11.4.5.107->torch==2.2.0->torchtext==0.17.0) (12.5.40)\n",
            "Requirement already satisfied: charset-normalizer<4,>=2 in /usr/local/lib/python3.10/dist-packages (from requests->torchtext==0.17.0) (3.3.2)\n",
            "Requirement already satisfied: idna<4,>=2.5 in /usr/local/lib/python3.10/dist-packages (from requests->torchtext==0.17.0) (3.7)\n",
            "Requirement already satisfied: certifi>=2017.4.17 in /usr/local/lib/python3.10/dist-packages (from requests->torchtext==0.17.0) (2024.6.2)\n",
            "Requirement already satisfied: MarkupSafe>=2.0 in /usr/local/lib/python3.10/dist-packages (from jinja2->torch==2.2.0->torchtext==0.17.0) (2.1.5)\n",
            "Requirement already satisfied: mpmath<1.4.0,>=1.1.0 in /usr/local/lib/python3.10/dist-packages (from sympy->torch==2.2.0->torchtext==0.17.0) (1.3.0)\n",
            "Installing collected packages: torchdata, torchtext\n",
            "  Attempting uninstall: torchtext\n",
            "    Found existing installation: torchtext 0.18.0\n",
            "    Uninstalling torchtext-0.18.0:\n",
            "      Successfully uninstalled torchtext-0.18.0\n",
            "Successfully installed torchdata-0.7.1 torchtext-0.17.0\n"
          ]
        }
      ],
      "source": [
        "!pip install torchtext==0.17.0"
      ]
    },
    {
      "cell_type": "code",
      "execution_count": null,
      "metadata": {
        "colab": {
          "base_uri": "https://localhost:8080/"
        },
        "id": "24tkvJfXAkVo",
        "outputId": "cd182be4-5fe2-4181-8b50-ccb9221e535c"
      },
      "outputs": [
        {
          "name": "stdout",
          "output_type": "stream",
          "text": [
            "Collecting portalocker\n",
            "  Downloading portalocker-2.8.2-py3-none-any.whl (17 kB)\n",
            "Installing collected packages: portalocker\n",
            "Successfully installed portalocker-2.8.2\n"
          ]
        }
      ],
      "source": [
        "!pip install portalocker"
      ]
    },
    {
      "cell_type": "markdown",
      "metadata": {
        "id": "6AmpUFn6AkVo"
      },
      "source": [
        "# Przygotowanie zbioru danych z recenzjami"
      ]
    },
    {
      "cell_type": "code",
      "execution_count": null,
      "metadata": {
        "id": "fpg6A9hTAkVp"
      },
      "outputs": [],
      "source": [
        "from torchtext.datasets import IMDB\n",
        "from torch.utils.data.dataset import random_split"
      ]
    },
    {
      "cell_type": "code",
      "execution_count": null,
      "metadata": {
        "colab": {
          "base_uri": "https://localhost:8080/"
        },
        "id": "w89kwV5MAkVq",
        "outputId": "7b383d77-f471-453b-ac52-dfbf29359bfd"
      },
      "outputs": [
        {
          "name": "stdout",
          "output_type": "stream",
          "text": [
            "Requirement already satisfied: torchdata in /usr/local/lib/python3.10/dist-packages (0.7.1)\n",
            "Requirement already satisfied: urllib3>=1.25 in /usr/local/lib/python3.10/dist-packages (from torchdata) (2.0.7)\n",
            "Requirement already satisfied: requests in /usr/local/lib/python3.10/dist-packages (from torchdata) (2.31.0)\n",
            "Requirement already satisfied: torch>=2 in /usr/local/lib/python3.10/dist-packages (from torchdata) (2.2.0)\n",
            "Requirement already satisfied: filelock in /usr/local/lib/python3.10/dist-packages (from torch>=2->torchdata) (3.14.0)\n",
            "Requirement already satisfied: typing-extensions>=4.8.0 in /usr/local/lib/python3.10/dist-packages (from torch>=2->torchdata) (4.12.1)\n",
            "Requirement already satisfied: sympy in /usr/local/lib/python3.10/dist-packages (from torch>=2->torchdata) (1.12.1)\n",
            "Requirement already satisfied: networkx in /usr/local/lib/python3.10/dist-packages (from torch>=2->torchdata) (3.3)\n",
            "Requirement already satisfied: jinja2 in /usr/local/lib/python3.10/dist-packages (from torch>=2->torchdata) (3.1.4)\n",
            "Requirement already satisfied: fsspec in /usr/local/lib/python3.10/dist-packages (from torch>=2->torchdata) (2023.6.0)\n",
            "Requirement already satisfied: nvidia-cuda-nvrtc-cu12==12.1.105 in /usr/local/lib/python3.10/dist-packages (from torch>=2->torchdata) (12.1.105)\n",
            "Requirement already satisfied: nvidia-cuda-runtime-cu12==12.1.105 in /usr/local/lib/python3.10/dist-packages (from torch>=2->torchdata) (12.1.105)\n",
            "Requirement already satisfied: nvidia-cuda-cupti-cu12==12.1.105 in /usr/local/lib/python3.10/dist-packages (from torch>=2->torchdata) (12.1.105)\n",
            "Requirement already satisfied: nvidia-cudnn-cu12==8.9.2.26 in /usr/local/lib/python3.10/dist-packages (from torch>=2->torchdata) (8.9.2.26)\n",
            "Requirement already satisfied: nvidia-cublas-cu12==12.1.3.1 in /usr/local/lib/python3.10/dist-packages (from torch>=2->torchdata) (12.1.3.1)\n",
            "Requirement already satisfied: nvidia-cufft-cu12==11.0.2.54 in /usr/local/lib/python3.10/dist-packages (from torch>=2->torchdata) (11.0.2.54)\n",
            "Requirement already satisfied: nvidia-curand-cu12==10.3.2.106 in /usr/local/lib/python3.10/dist-packages (from torch>=2->torchdata) (10.3.2.106)\n",
            "Requirement already satisfied: nvidia-cusolver-cu12==11.4.5.107 in /usr/local/lib/python3.10/dist-packages (from torch>=2->torchdata) (11.4.5.107)\n",
            "Requirement already satisfied: nvidia-cusparse-cu12==12.1.0.106 in /usr/local/lib/python3.10/dist-packages (from torch>=2->torchdata) (12.1.0.106)\n",
            "Requirement already satisfied: nvidia-nccl-cu12==2.19.3 in /usr/local/lib/python3.10/dist-packages (from torch>=2->torchdata) (2.19.3)\n",
            "Requirement already satisfied: nvidia-nvtx-cu12==12.1.105 in /usr/local/lib/python3.10/dist-packages (from torch>=2->torchdata) (12.1.105)\n",
            "Requirement already satisfied: triton==2.2.0 in /usr/local/lib/python3.10/dist-packages (from torch>=2->torchdata) (2.2.0)\n",
            "Requirement already satisfied: nvidia-nvjitlink-cu12 in /usr/local/lib/python3.10/dist-packages (from nvidia-cusolver-cu12==11.4.5.107->torch>=2->torchdata) (12.5.40)\n",
            "Requirement already satisfied: charset-normalizer<4,>=2 in /usr/local/lib/python3.10/dist-packages (from requests->torchdata) (3.3.2)\n",
            "Requirement already satisfied: idna<4,>=2.5 in /usr/local/lib/python3.10/dist-packages (from requests->torchdata) (3.7)\n",
            "Requirement already satisfied: certifi>=2017.4.17 in /usr/local/lib/python3.10/dist-packages (from requests->torchdata) (2024.6.2)\n",
            "Requirement already satisfied: MarkupSafe>=2.0 in /usr/local/lib/python3.10/dist-packages (from jinja2->torch>=2->torchdata) (2.1.5)\n",
            "Requirement already satisfied: mpmath<1.4.0,>=1.1.0 in /usr/local/lib/python3.10/dist-packages (from sympy->torch>=2->torchdata) (1.3.0)\n"
          ]
        }
      ],
      "source": [
        "!pip install torchdata"
      ]
    },
    {
      "cell_type": "code",
      "execution_count": null,
      "metadata": {
        "id": "r7xxSeEsAkVr"
      },
      "outputs": [],
      "source": [
        "## Wczytanie danych i podział na train/test\n",
        "\n",
        "train_dataset = IMDB(split='train')\n",
        "test_dataset = IMDB(split='test')\n",
        "\n",
        "test_dataset = list(test_dataset)   #datapipe to list"
      ]
    },
    {
      "cell_type": "markdown",
      "metadata": {
        "id": "3ARbJzvSAkVs"
      },
      "source": [
        "W każdym zbiorze znajduje się po 25 000 przykładów: recenzja + etykieta (neg/pos)."
      ]
    },
    {
      "cell_type": "code",
      "execution_count": null,
      "metadata": {
        "id": "Bv0iaf3MAkVt"
      },
      "outputs": [],
      "source": [
        "from torch.utils.data import Subset\n",
        "torch.manual_seed(1)\n",
        "\n",
        "# Wydzielamy train i valid z domyślnego traina:\n",
        "train_dataset, valid_dataset = random_split(\n",
        "    list(train_dataset), [20000, 5000])\n",
        "#train_dataset=Subset(train_dataset.dataset, train_dataset.indices[:1000])\n",
        "#valid_dataset=Subset(valid_dataset.dataset, valid_dataset.indices[:250])"
      ]
    },
    {
      "cell_type": "code",
      "execution_count": null,
      "metadata": {
        "colab": {
          "base_uri": "https://localhost:8080/"
        },
        "id": "orBAD_8kAkVu",
        "outputId": "f34a5c1d-ae96-413e-b830-80f189dd3676"
      },
      "outputs": [
        {
          "name": "stdout",
          "output_type": "stream",
          "text": [
            "Vocab-size: 69023\n"
          ]
        }
      ],
      "source": [
        "## Kodujemy dane tekstowe: szukamy unikatowch słów (tokenów) -\n",
        "## można wykorzystać klasę Counter z pakietu collections\n",
        "\n",
        "import re\n",
        "from collections import Counter, OrderedDict\n",
        "\n",
        "token_counts = Counter()\n",
        "\n",
        "# Gotowa funkcja do tokenizacji (czyści też tekst):\n",
        "def tokenizer(text):\n",
        "    text = re.sub('<[^>]*>', '', text)\n",
        "    emoticons = re.findall('(?::|;|=)(?:-)?(?:\\)|\\(|D|P)', text.lower())\n",
        "    text = re.sub('[\\W]+', ' ', text.lower()) +\\\n",
        "        ' '.join(emoticons).replace('-', '')\n",
        "    tokenized = text.split()\n",
        "    return tokenized\n",
        "\n",
        "\n",
        "for label, line in train_dataset:\n",
        "    tokens = tokenizer(line)\n",
        "    token_counts.update(tokens)\n",
        "\n",
        "\n",
        "print('Vocab-size:', len(token_counts))"
      ]
    },
    {
      "cell_type": "code",
      "execution_count": null,
      "metadata": {
        "colab": {
          "base_uri": "https://localhost:8080/"
        },
        "id": "WhAodmhbAkVv",
        "outputId": "0f7a3215-3c98-47a4-c8dd-00bf79e0daba"
      },
      "outputs": [
        {
          "name": "stdout",
          "output_type": "stream",
          "text": [
            "[11, 7, 35, 457]\n"
          ]
        }
      ],
      "source": [
        "## Mapowanie unikalnych słów na integery (pakiet torchtext ma do tego klasę Vocab)\n",
        "from torchtext.vocab import vocab\n",
        "\n",
        "sorted_by_freq_tuples = sorted(token_counts.items(), key=lambda x: x[1], reverse=True)\n",
        "ordered_dict = OrderedDict(sorted_by_freq_tuples)\n",
        "\n",
        "vocab = vocab(ordered_dict)\n",
        "\n",
        "vocab.insert_token(\"<pad>\", 0)  # 0 - symbol ,,zastępczy\"\n",
        "vocab.insert_token(\"<unk>\", 1)  # 1 - dla nieznanych tokenów\n",
        "vocab.set_default_index(1)\n",
        "\n",
        "print([vocab[token] for token in ['this', 'is', 'an', 'example']])"
      ]
    },
    {
      "cell_type": "code",
      "execution_count": null,
      "metadata": {
        "id": "hv2YPzQPAkVw"
      },
      "outputs": [],
      "source": [
        "if not torch.cuda.is_available():\n",
        "    print(\"Warning: this code may be very slow on CPU\")"
      ]
    },
    {
      "cell_type": "markdown",
      "metadata": {
        "id": "fqiRq0wYAkVx"
      },
      "source": [
        "Jeśli za wolno, to wziąć mniej danych."
      ]
    },
    {
      "cell_type": "code",
      "execution_count": null,
      "metadata": {
        "id": "xccu4GhuAkVx"
      },
      "outputs": [],
      "source": [
        "## Definijemy funkcję do transformacji oraz funkcję do etykiet 0-1:\n",
        "import torchtext\n",
        "device = torch.device(\"cuda\" if torch.cuda.is_available() else \"cpu\")\n",
        "\n",
        "text_pipeline = lambda x: [vocab[token] for token in tokenizer(x)]\n",
        "\n",
        "from torchtext import __version__ as torchtext_version\n",
        "from pkg_resources import parse_version\n",
        "\n",
        "if parse_version(torchtext.__version__) > parse_version(\"0.10\"):\n",
        "    label_pipeline = lambda x: 1. if x == 2 else 0.         # 1 ~ negative, 2 ~ positive review\n",
        "else:\n",
        "    label_pipeline = lambda x: 1. if x == 'pos' else 0.\n",
        "\n",
        "\n",
        "## Składamy w jedną funkcję:\n",
        "def collate_batch(batch):\n",
        "    label_list, text_list, lengths = [], [], []\n",
        "    for _label, _text in batch:\n",
        "        label_list.append(label_pipeline(_label))\n",
        "        processed_text = torch.tensor(text_pipeline(_text),\n",
        "                                      dtype=torch.int64)\n",
        "        text_list.append(processed_text)\n",
        "        lengths.append(processed_text.size(0))\n",
        "    label_list = torch.tensor(label_list)\n",
        "    lengths = torch.tensor(lengths)\n",
        "    padded_text_list = nn.utils.rnn.pad_sequence(\n",
        "        text_list, batch_first=True)\n",
        "    return padded_text_list.to(device), label_list.to(device), lengths.to(device)"
      ]
    },
    {
      "cell_type": "code",
      "execution_count": null,
      "metadata": {
        "id": "sYegUrhQAkVy",
        "scrolled": true
      },
      "outputs": [],
      "source": [
        "## Test na 4 przykładach\n",
        "\n",
        "from torch.utils.data import DataLoader\n",
        "\n",
        "dataloader = DataLoader(train_dataset, batch_size=4, shuffle=False, collate_fn=collate_batch)\n",
        "text_batch, label_batch, length_batch = next(iter(dataloader))"
      ]
    },
    {
      "cell_type": "markdown",
      "metadata": {
        "id": "vpzID4yMAkVz"
      },
      "source": [
        "Mamy zamienione sekwencje słów na sekwencje liczb całkowitych, a etykiety na 1 lub 0.\n",
        "\n",
        "Funckja `pad_sequence()` dopełniła przykłady zerami tak, aby wszystki przykłady w batchu miały ten sam kształt\n",
        "(aby efektywnie przechowywać je w postaci tensorów)."
      ]
    },
    {
      "cell_type": "code",
      "execution_count": null,
      "metadata": {
        "id": "ek-3vr_oAkV0"
      },
      "outputs": [],
      "source": [
        "## Dzielimy zbiory danych na batche o rozmiarze 32:\n",
        "\n",
        "batch_size = 32\n",
        "\n",
        "train_dl = DataLoader(train_dataset, batch_size=batch_size,\n",
        "                      shuffle=True, collate_fn=collate_batch)\n",
        "valid_dl = DataLoader(valid_dataset, batch_size=batch_size,\n",
        "                      shuffle=False, collate_fn=collate_batch)\n",
        "test_dl = DataLoader(test_dataset, batch_size=batch_size,\n",
        "                     shuffle=False, collate_fn=collate_batch)"
      ]
    },
    {
      "cell_type": "markdown",
      "metadata": {
        "id": "PfabNLbuAkV0"
      },
      "source": [
        "## Model RNN do analizy sentymentu w recenzjach filmów z IMDb"
      ]
    },
    {
      "cell_type": "markdown",
      "metadata": {},
      "source": [
        "### 1. Zwiększenie wymiaru wektorów embedding (`embed_dim`) może pozwolić modelowi na uchwycenie bardziej złożonych relacji między słowami.\n",
        "### 2. Zwiększenie liczby jednostek w warstwie LSTM (`rnn_hidden_size`) może poprawić zdolność modelu do zapamiętywania długich sekwencji."
      ]
    },
    {
      "cell_type": "code",
      "execution_count": null,
      "metadata": {
        "id": "5LUbB559AkV1"
      },
      "outputs": [],
      "source": [
        "class RNN(nn.Module):\n",
        "    def __init__(self, vocab_size, embed_dim, rnn_hidden_size, fc_hidden_size):\n",
        "        super().__init__()\n",
        "        self.embedding = nn.Embedding(vocab_size,\n",
        "                                      embed_dim,\n",
        "                                      padding_idx=0)\n",
        "        self.rnn = nn.LSTM(embed_dim, rnn_hidden_size,\n",
        "                           batch_first=True)\n",
        "        self.fc1 = nn.Linear(rnn_hidden_size, fc_hidden_size)\n",
        "        self.relu = nn.ReLU()\n",
        "        self.fc2 = nn.Linear(fc_hidden_size, 1)\n",
        "        self.sigmoid = nn.Sigmoid()\n",
        "\n",
        "    def forward(self, text, lengths):\n",
        "        out = self.embedding(text)\n",
        "        out = nn.utils.rnn.pack_padded_sequence(out, lengths.cpu().numpy(), enforce_sorted=False, batch_first=True)\n",
        "        out, (hidden, cell) = self.rnn(out)\n",
        "        out = hidden[-1, :, :]\n",
        "        out = self.fc1(out)\n",
        "        out = self.relu(out)\n",
        "        out = self.fc2(out)\n",
        "        out = self.sigmoid(out)\n",
        "        return out\n",
        "\n",
        "vocab_size = len(vocab)\n",
        "embed_dim = 20\n",
        "#1. Zwiększenie wymiaru wektorów embedding\n",
        "embed_dim_1 = 50\n",
        "#2.Zwiększenie liczby jednostek w warstwie LSTM\n",
        "rnn_hidden_size = 64\n",
        "rnn_hidden_size_1 = 128\n",
        "fc_hidden_size = 64\n",
        "\n",
        "torch.manual_seed(1)\n",
        "model = RNN(vocab_size, embed_dim, rnn_hidden_size, fc_hidden_size)\n",
        "model = model.to(device)\n",
        "model_emb = RNN(vocab_size, embed_dim_1, rnn_hidden_size, fc_hidden_size)\n",
        "model_emb = model_emb.to(device)\n",
        "model_rnn = RNN(vocab_size, embed_dim, rnn_hidden_size_1, fc_hidden_size)\n",
        "model_rnn = model_rnn.to(device)"
      ]
    },
    {
      "cell_type": "code",
      "execution_count": null,
      "metadata": {
        "id": "cRDDdMZyAkV1"
      },
      "outputs": [],
      "source": [
        "def train(dataloader, model, optimizer):\n",
        "    model.train()\n",
        "    total_acc, total_loss = 0, 0\n",
        "    for text_batch, label_batch, lengths in dataloader:\n",
        "        optimizer.zero_grad()\n",
        "        pred = model(text_batch, lengths)[:, 0]\n",
        "        loss = loss_fn(pred, label_batch)\n",
        "        loss.backward()\n",
        "        optimizer.step()\n",
        "        total_acc += ((pred>=0.5).float() == label_batch).float().sum().item()\n",
        "        total_loss += loss.item()*label_batch.size(0)\n",
        "    return total_acc/len(dataloader.dataset), total_loss/len(dataloader.dataset)\n",
        "\n",
        "def evaluate(dataloader, model):\n",
        "    model.eval()\n",
        "    total_acc, total_loss = 0, 0\n",
        "    with torch.no_grad():\n",
        "        for text_batch, label_batch, lengths in dataloader:\n",
        "            pred = model(text_batch, lengths)[:, 0]\n",
        "            loss = loss_fn(pred, label_batch)\n",
        "            total_acc += ((pred>=0.5).float() == label_batch).float().sum().item()\n",
        "            total_loss += loss.item()*label_batch.size(0)\n",
        "    return total_acc/len(dataloader.dataset), total_loss/len(dataloader.dataset)"
      ]
    },
    {
      "cell_type": "code",
      "execution_count": null,
      "metadata": {
        "colab": {
          "base_uri": "https://localhost:8080/"
        },
        "id": "cVsNzA9XAkV2",
        "outputId": "fed7d8f9-a488-4c1c-ea58-739601695f36"
      },
      "outputs": [
        {
          "name": "stdout",
          "output_type": "stream",
          "text": [
            "Epoch 0 accuracy: 0.6096 val_accuracy: 0.6852\n",
            "Epoch 1 accuracy: 0.7257 val_accuracy: 0.7452\n",
            "Epoch 2 accuracy: 0.7466 val_accuracy: 0.6284\n",
            "Epoch 3 accuracy: 0.7253 val_accuracy: 0.5366\n",
            "Epoch 4 accuracy: 0.7972 val_accuracy: 0.7492\n",
            "Epoch 5 accuracy: 0.8619 val_accuracy: 0.7784\n",
            "Epoch 6 accuracy: 0.8911 val_accuracy: 0.8040\n",
            "Epoch 7 accuracy: 0.9162 val_accuracy: 0.8574\n",
            "Epoch 8 accuracy: 0.9328 val_accuracy: 0.8598\n",
            "Epoch 9 accuracy: 0.9504 val_accuracy: 0.8634\n",
            "Epoch 0 accuracy: 0.5927 val_accuracy: 0.5598\n",
            "Epoch 1 accuracy: 0.6872 val_accuracy: 0.7280\n",
            "Epoch 2 accuracy: 0.7806 val_accuracy: 0.8040\n",
            "Epoch 3 accuracy: 0.8616 val_accuracy: 0.8004\n",
            "Epoch 4 accuracy: 0.8419 val_accuracy: 0.8588\n",
            "Epoch 5 accuracy: 0.9280 val_accuracy: 0.8654\n",
            "Epoch 6 accuracy: 0.9510 val_accuracy: 0.8790\n",
            "Epoch 7 accuracy: 0.9706 val_accuracy: 0.8698\n",
            "Epoch 8 accuracy: 0.9834 val_accuracy: 0.8734\n",
            "Epoch 9 accuracy: 0.9891 val_accuracy: 0.8708\n",
            "Epoch 0 accuracy: 0.5522 val_accuracy: 0.5796\n",
            "Epoch 1 accuracy: 0.6383 val_accuracy: 0.6806\n",
            "Epoch 2 accuracy: 0.7032 val_accuracy: 0.7560\n",
            "Epoch 3 accuracy: 0.8165 val_accuracy: 0.8002\n",
            "Epoch 4 accuracy: 0.8800 val_accuracy: 0.8464\n",
            "Epoch 5 accuracy: 0.9111 val_accuracy: 0.8634\n",
            "Epoch 6 accuracy: 0.9330 val_accuracy: 0.8626\n",
            "Epoch 7 accuracy: 0.9486 val_accuracy: 0.8698\n",
            "Epoch 8 accuracy: 0.9617 val_accuracy: 0.8682\n",
            "Epoch 9 accuracy: 0.9727 val_accuracy: 0.8642\n"
          ]
        }
      ],
      "source": [
        "loss_fn = nn.BCELoss()\n",
        "optimizer = torch.optim.Adam(model.parameters(), lr=0.001)\n",
        "optimizer_em = torch.optim.Adam(model_emb.parameters(), lr=0.001)\n",
        "optimizer_rnn = torch.optim.Adam(model_rnn.parameters(), lr=0.001)\n",
        "num_epochs = 10\n",
        "\n",
        "torch.manual_seed(1)\n",
        "\n",
        "for epoch in range(num_epochs):\n",
        "    acc_train, loss_train = train(train_dl, model, optimizer)\n",
        "    acc_valid, loss_valid = evaluate(valid_dl, model)\n",
        "    print(f'Epoch {epoch} accuracy: {acc_train:.4f} val_accuracy: {acc_valid:.4f}')\n",
        "\n",
        "for epoch in range(num_epochs):\n",
        "    acc_train_e, loss_train_e = train(train_dl, model_emb, optimizer_em)\n",
        "    acc_valid_e, loss_valid_e = evaluate(valid_dl, model_emb)\n",
        "    print(f'Epoch {epoch} accuracy: {acc_train_e:.4f} val_accuracy: {acc_valid_e:.4f}')\n",
        "\n",
        "for epoch in range(num_epochs):\n",
        "    acc_train_rnn, loss_train_rnn = train(train_dl, model_rnn, optimizer_rnn)\n",
        "    acc_valid_rnn, loss_valid_rnn = evaluate(valid_dl, model_rnn)\n",
        "    print(f'Epoch {epoch} accuracy: {acc_train_rnn:.4f} val_accuracy: {acc_valid_rnn:.4f}')"
      ]
    },
    {
      "cell_type": "code",
      "execution_count": null,
      "metadata": {
        "colab": {
          "base_uri": "https://localhost:8080/"
        },
        "id": "nUtKTlBtAkV4",
        "outputId": "b2db6701-14c1-44b7-b1f0-1ae6e9496e21"
      },
      "outputs": [
        {
          "name": "stdout",
          "output_type": "stream",
          "text": [
            "test_accuracy: 0.8571\n",
            "test_accuracy emd_dim=50: 0.8586\n",
            "test_accuracy rnn_hidden_size_1 = 12: 0.8543\n"
          ]
        }
      ],
      "source": [
        "acc_test, _ = evaluate(test_dl, model)\n",
        "acc_test_em, _ = evaluate(test_dl, model_emb)\n",
        "acc_test_rnn, _ = evaluate(test_dl, model_rnn)\n",
        "print(f'test_accuracy: {acc_test:.4f}')\n",
        "print(f'test_accuracy emd_dim=50: {acc_test_em:.4f}')\n",
        "print(f'test_accuracy rnn_hidden_size_1 = 128: {acc_test_rnn:.4f}')"
      ]
    },
    {
      "cell_type": "markdown",
      "metadata": {},
      "source": [
        "Porównywalne wyniki dla kazdej z rozwazanych opcji"
      ]
    },
    {
      "cell_type": "markdown",
      "metadata": {
        "id": "Iu1nM7ZZAkV4"
      },
      "source": [
        "### 3. Dodanie kolejnej warstwy LSTM może pomóc modelowi w lepszym uchwyceniu zależności w sekwencjach.\n"
      ]
    },
    {
      "cell_type": "code",
      "execution_count": null,
      "metadata": {
        "id": "P4BxykzWAkV5"
      },
      "outputs": [],
      "source": [
        "class RNN_1(nn.Module):\n",
        "    def __init__(self, vocab_size, embed_dim, rnn_hidden_size, fc_hidden_size, num_layers):\n",
        "        super().__init__()\n",
        "        self.embedding = nn.Embedding(vocab_size,\n",
        "                                      embed_dim,\n",
        "                                      padding_idx=0)\n",
        "        self.rnn = nn.LSTM(embed_dim, rnn_hidden_size, num_layers,\n",
        "                           batch_first=True)\n",
        "        self.fc1 = nn.Linear(rnn_hidden_size, fc_hidden_size)\n",
        "        self.relu = nn.ReLU()\n",
        "        self.fc2 = nn.Linear(fc_hidden_size, 1)\n",
        "        self.sigmoid = nn.Sigmoid()\n",
        "\n",
        "    def forward(self, text, lengths):\n",
        "        out = self.embedding(text)\n",
        "        out = nn.utils.rnn.pack_padded_sequence(out, lengths.cpu().numpy(), enforce_sorted=False, batch_first=True)\n",
        "        out, (hidden, cell) = self.rnn(out)\n",
        "        out = hidden[-1, :, :]\n",
        "        out = self.fc1(out)\n",
        "        out = self.relu(out)\n",
        "        out = self.fc2(out)\n",
        "        out = self.sigmoid(out)\n",
        "        return out\n",
        "\n",
        "#2 warstwy LSTM\n",
        "num_layers=2\n",
        "vocab_size = len(vocab)\n",
        "embed_dim = 20\n",
        "rnn_hidden_size = 64\n",
        "fc_hidden_size = 64\n",
        "\n",
        "\n",
        "\n",
        "torch.manual_seed(1)\n",
        "model_lstm = RNN_1(vocab_size, embed_dim, rnn_hidden_size, fc_hidden_size, num_layers)\n",
        "model_lstm = model_lstm.to(device)\n"
      ]
    },
    {
      "cell_type": "code",
      "execution_count": null,
      "metadata": {
        "id": "ib8tC9M0cVZM"
      },
      "outputs": [],
      "source": [
        "# 3 warstwy LSTM\n",
        "num_layers=3\n",
        "vocab_size = len(vocab)\n",
        "embed_dim = 20\n",
        "rnn_hidden_size = 64\n",
        "fc_hidden_size = 64\n",
        "\n",
        "\n",
        "\n",
        "torch.manual_seed(1)\n",
        "model_lstm3 = RNN_1(vocab_size, embed_dim, rnn_hidden_size, fc_hidden_size, num_layers)\n",
        "model_lstm3 = model_lstm3.to(device)"
      ]
    },
    {
      "cell_type": "code",
      "execution_count": null,
      "metadata": {
        "colab": {
          "base_uri": "https://localhost:8080/"
        },
        "id": "F6w_Kbi1AkV6",
        "outputId": "f1e59262-90b8-4d7b-c90e-8463215af9f5"
      },
      "outputs": [
        {
          "name": "stdout",
          "output_type": "stream",
          "text": [
            "Epoch 0 accuracy: 0.5856 val_accuracy: 0.6708\n",
            "Epoch 1 accuracy: 0.7030 val_accuracy: 0.7134\n",
            "Epoch 2 accuracy: 0.7752 val_accuracy: 0.7766\n",
            "Epoch 3 accuracy: 0.7782 val_accuracy: 0.8340\n",
            "Epoch 4 accuracy: 0.8799 val_accuracy: 0.8558\n",
            "Epoch 5 accuracy: 0.9139 val_accuracy: 0.8654\n",
            "Epoch 6 accuracy: 0.9327 val_accuracy: 0.8606\n",
            "Epoch 7 accuracy: 0.9504 val_accuracy: 0.8534\n",
            "Epoch 8 accuracy: 0.9654 val_accuracy: 0.8764\n",
            "Epoch 9 accuracy: 0.9735 val_accuracy: 0.8738\n"
          ]
        }
      ],
      "source": [
        "loss_fn = nn.BCELoss()\n",
        "optimizer_lstm = torch.optim.Adam(model_lstm.parameters(), lr=0.001)\n",
        "num_epochs = 10\n",
        "\n",
        "torch.manual_seed(1)\n",
        "\n",
        "for epoch in range(num_epochs):\n",
        "    acc_train, loss_train = train(train_dl, model_lstm, optimizer_lstm)\n",
        "    acc_valid, loss_valid = evaluate(valid_dl, model_lstm)\n",
        "    print(f'Epoch {epoch} accuracy: {acc_train:.4f} val_accuracy: {acc_valid:.4f}')\n"
      ]
    },
    {
      "cell_type": "code",
      "execution_count": null,
      "metadata": {
        "id": "B5-v7-nuAkV7"
      },
      "outputs": [],
      "source": [
        "acc_test_lstm, _ = evaluate(test_dl, model_lstm)"
      ]
    },
    {
      "cell_type": "code",
      "execution_count": null,
      "metadata": {
        "colab": {
          "base_uri": "https://localhost:8080/"
        },
        "id": "943mhPw2cg79",
        "outputId": "4d9b8c92-f646-4aff-d309-22726f9f87c8"
      },
      "outputs": [
        {
          "name": "stdout",
          "output_type": "stream",
          "text": [
            "Epoch 0 accuracy: 0.5419 val_accuracy: 0.5966\n",
            "Epoch 1 accuracy: 0.6599 val_accuracy: 0.7198\n",
            "Epoch 2 accuracy: 0.7438 val_accuracy: 0.7158\n",
            "Epoch 3 accuracy: 0.7943 val_accuracy: 0.7474\n",
            "Epoch 4 accuracy: 0.8442 val_accuracy: 0.7984\n",
            "Epoch 5 accuracy: 0.8758 val_accuracy: 0.8266\n",
            "Epoch 6 accuracy: 0.8921 val_accuracy: 0.8376\n",
            "Epoch 7 accuracy: 0.9085 val_accuracy: 0.8230\n",
            "Epoch 8 accuracy: 0.9217 val_accuracy: 0.8600\n",
            "Epoch 9 accuracy: 0.9311 val_accuracy: 0.8546\n"
          ]
        }
      ],
      "source": [
        "loss_fn = nn.BCELoss()\n",
        "optimizer_lstm3 = torch.optim.Adam(model_lstm3.parameters(), lr=0.001)\n",
        "num_epochs = 10\n",
        "\n",
        "torch.manual_seed(1)\n",
        "\n",
        "for epoch in range(num_epochs):\n",
        "    acc_train, loss_train = train(train_dl, model_lstm3, optimizer_lstm3)\n",
        "    acc_valid, loss_valid = evaluate(valid_dl, model_lstm3)\n",
        "    print(f'Epoch {epoch} accuracy: {acc_train:.4f} val_accuracy: {acc_valid:.4f}')"
      ]
    },
    {
      "cell_type": "code",
      "execution_count": null,
      "metadata": {
        "id": "fAeMoDYicq_K"
      },
      "outputs": [],
      "source": [
        "acc_test_lstm3, _ = evaluate(test_dl, model_lstm3)"
      ]
    },
    {
      "cell_type": "code",
      "execution_count": null,
      "metadata": {
        "colab": {
          "base_uri": "https://localhost:8080/"
        },
        "id": "KQ7FYqW_DPK5",
        "outputId": "d1d4b17b-1851-4d77-86c2-29b71d661ff5"
      },
      "outputs": [
        {
          "name": "stdout",
          "output_type": "stream",
          "text": [
            "test_accuracy default model: 0.8571\n",
            "test_accuracy 2 lstm layers: 0.8686\n",
            "test_accuracy 3 lstm layers: 0.8474\n"
          ]
        }
      ],
      "source": [
        "print(f'test_accuracy default model: {acc_test:.4f}')\n",
        "print(f'test_accuracy 2 lstm layers: {acc_test_lstm:.4f}')\n",
        "print(f'test_accuracy 3 lstm layers: {acc_test_lstm3:.4f}')"
      ]
    },
    {
      "cell_type": "markdown",
      "metadata": {},
      "source": [
        "Z dwoma wartswami LSTM wypada zarowno najlepiej na tescie jak i validzie"
      ]
    },
    {
      "cell_type": "markdown",
      "metadata": {
        "id": "EBxbpHlaAkV7"
      },
      "source": [
        "### 4.Dodanie warstw Dropout pomiędzy warstwami może pomóc w zapobieganiu przeuczeniu modelu."
      ]
    },
    {
      "cell_type": "code",
      "execution_count": null,
      "metadata": {
        "id": "hPYSLe07AkV8"
      },
      "outputs": [],
      "source": [
        "class RNN_2a(nn.Module):\n",
        "    def __init__(self, vocab_size, embed_dim, rnn_hidden_size, fc_hidden_size, p1 , p2):\n",
        "        super().__init__()\n",
        "        self.embedding = nn.Embedding(vocab_size,\n",
        "                                      embed_dim,\n",
        "                                      padding_idx=0)\n",
        "        self.rnn = nn.LSTM(embed_dim, rnn_hidden_size,\n",
        "                           batch_first=True)\n",
        "        self.fc1 = nn.Linear(rnn_hidden_size, fc_hidden_size)\n",
        "        self.relu = nn.ReLU()\n",
        "        self.dropout1 = nn.Dropout(p1)\n",
        "        self.fc2 = nn.Linear(fc_hidden_size, 1)\n",
        "        self.sigmoid = nn.Sigmoid()\n",
        "        self.dropout2 = nn.Dropout(p2)\n",
        "\n",
        "    def forward(self, text, lengths):\n",
        "        out = self.embedding(text)\n",
        "        out = nn.utils.rnn.pack_padded_sequence(out, lengths.cpu().numpy(), enforce_sorted=False, batch_first=True)\n",
        "        out, (hidden, cell) = self.rnn(out)\n",
        "        out = hidden[-1, :, :]\n",
        "        out = self.fc1(out)\n",
        "        out = self.relu(out)\n",
        "        out = self.dropout1(out)\n",
        "        out = self.fc2(out)\n",
        "        out = self.dropout2(out)\n",
        "        out = self.sigmoid(out)\n",
        "        return out\n",
        "\n",
        "class RNN_2b(nn.Module):\n",
        "    def __init__(self, vocab_size, embed_dim, rnn_hidden_size, fc_hidden_size, p2):\n",
        "        super().__init__()\n",
        "        self.embedding = nn.Embedding(vocab_size,\n",
        "                                      embed_dim,\n",
        "                                      padding_idx=0)\n",
        "        self.rnn = nn.LSTM(embed_dim, rnn_hidden_size,\n",
        "                           batch_first=True)\n",
        "        self.fc1 = nn.Linear(rnn_hidden_size, fc_hidden_size)\n",
        "        self.relu = nn.ReLU()\n",
        "        self.fc2 = nn.Linear(fc_hidden_size, 1)\n",
        "        self.sigmoid = nn.Sigmoid()\n",
        "        self.dropout2 = nn.Dropout(p2)\n",
        "\n",
        "    def forward(self, text, lengths):\n",
        "        out = self.embedding(text)\n",
        "        out = nn.utils.rnn.pack_padded_sequence(out, lengths.cpu().numpy(), enforce_sorted=False, batch_first=True)\n",
        "        out, (hidden, cell) = self.rnn(out)\n",
        "        out = hidden[-1, :, :]\n",
        "        out = self.fc1(out)\n",
        "        out = self.relu(out)\n",
        "        out = self.fc2(out)\n",
        "        out = self.dropout2(out)\n",
        "        out = self.sigmoid(out)\n",
        "        return out\n",
        "\n",
        "vocab_size = len(vocab)\n",
        "embed_dim = 20\n",
        "rnn_hidden_size = 64\n",
        "fc_hidden_size = 64\n",
        "p1=0.3\n",
        "p2=0.4\n",
        "p=0.5\n",
        "model_dropout1 = RNN_2a(vocab_size, embed_dim, rnn_hidden_size, fc_hidden_size, p1, p2)\n",
        "model_dropout1 = model_dropout1.to(device)\n",
        "\n",
        "model_dropout2 = RNN_2b(vocab_size, embed_dim, rnn_hidden_size, fc_hidden_size, p)\n",
        "model_dropout2 = model_dropout2.to(device)\n"
      ]
    },
    {
      "cell_type": "code",
      "execution_count": null,
      "metadata": {
        "colab": {
          "base_uri": "https://localhost:8080/"
        },
        "id": "EA_6vyVLAkV8",
        "outputId": "653213e2-4a2f-4c9e-821b-7e5a5075c23d"
      },
      "outputs": [
        {
          "name": "stdout",
          "output_type": "stream",
          "text": [
            "Epoch 0 accuracy: 0.5526 val_accuracy: 0.6540\n",
            "Epoch 1 accuracy: 0.6146 val_accuracy: 0.7086\n",
            "Epoch 2 accuracy: 0.5846 val_accuracy: 0.6348\n",
            "Epoch 3 accuracy: 0.6352 val_accuracy: 0.7476\n",
            "Epoch 4 accuracy: 0.6875 val_accuracy: 0.8100\n",
            "Epoch 5 accuracy: 0.7219 val_accuracy: 0.8334\n",
            "Epoch 6 accuracy: 0.7313 val_accuracy: 0.8474\n",
            "Epoch 7 accuracy: 0.7442 val_accuracy: 0.8544\n",
            "Epoch 8 accuracy: 0.7605 val_accuracy: 0.8600\n",
            "Epoch 9 accuracy: 0.7592 val_accuracy: 0.8622\n",
            "Epoch 0 accuracy: 0.5336 val_accuracy: 0.6136\n",
            "Epoch 1 accuracy: 0.5813 val_accuracy: 0.6652\n",
            "Epoch 2 accuracy: 0.6119 val_accuracy: 0.7236\n",
            "Epoch 3 accuracy: 0.6432 val_accuracy: 0.7830\n",
            "Epoch 4 accuracy: 0.6603 val_accuracy: 0.7918\n",
            "Epoch 5 accuracy: 0.6670 val_accuracy: 0.7872\n",
            "Epoch 6 accuracy: 0.6770 val_accuracy: 0.7936\n",
            "Epoch 7 accuracy: 0.6907 val_accuracy: 0.8190\n",
            "Epoch 8 accuracy: 0.7014 val_accuracy: 0.8352\n",
            "Epoch 9 accuracy: 0.6958 val_accuracy: 0.7940\n"
          ]
        }
      ],
      "source": [
        "loss_fn = nn.BCELoss()\n",
        "optimizer_dropout1 = torch.optim.Adam(model_dropout1.parameters(), lr=0.001)\n",
        "optimizer_dropout2 = torch.optim.Adam(model_dropout2.parameters(), lr=0.001)\n",
        "num_epochs = 10\n",
        "\n",
        "\n",
        "for epoch in range(num_epochs):\n",
        "    acc_train, loss_train = train(train_dl, model_dropout1, optimizer_dropout1)\n",
        "    acc_valid, loss_valid = evaluate(valid_dl, model_dropout1)\n",
        "    print(f'Epoch {epoch} accuracy: {acc_train:.4f} val_accuracy: {acc_valid:.4f}')\n",
        "\n",
        "for epoch in range(num_epochs):\n",
        "    acc_train, loss_train = train(train_dl, model_dropout2, optimizer_dropout2)\n",
        "    acc_valid, loss_valid = evaluate(valid_dl, model_dropout2)\n",
        "    print(f'Epoch {epoch} accuracy: {acc_train:.4f} val_accuracy: {acc_valid:.4f}')\n"
      ]
    },
    {
      "cell_type": "code",
      "execution_count": null,
      "metadata": {
        "id": "e9gZ7bRWAkV9"
      },
      "outputs": [],
      "source": [
        "acc_test_dropout1, _ = evaluate(test_dl, model_dropout1)\n",
        "acc_test_dropout2, _ = evaluate(test_dl, model_dropout2)"
      ]
    },
    {
      "cell_type": "code",
      "execution_count": null,
      "metadata": {
        "colab": {
          "base_uri": "https://localhost:8080/"
        },
        "id": "rs9Tip9pHj6w",
        "outputId": "255ebc23-ba12-444d-a750-1a4107142ec1"
      },
      "outputs": [
        {
          "name": "stdout",
          "output_type": "stream",
          "text": [
            "test_accuracy default model: 0.8571\n",
            "test_accuracy 2 dropout layers: 0.8614\n",
            "test_accuracy 1 dropout layers: 0.7986\n"
          ]
        }
      ],
      "source": [
        "print(f'test_accuracy default model: {acc_test:.4f}')\n",
        "print(f'test_accuracy 2 dropout layers: {acc_test_dropout1:.4f}')\n",
        "print(f'test_accuracy 1 dropout layers: {acc_test_dropout2:.4f}')"
      ]
    },
    {
      "cell_type": "markdown",
      "metadata": {},
      "source": [
        "z 2 dropoutami lepsze wyniki"
      ]
    },
    {
      "cell_type": "markdown",
      "metadata": {
        "id": "D0vSH0_YAkV-"
      },
      "source": [
        "### 5. Zamiast ReLU,  spróbować użyć innych funkcji aktywacji, takich jak LeakyReLU lub ELU."
      ]
    },
    {
      "cell_type": "markdown",
      "metadata": {},
      "source": [
        "### Proba z LeakyReLU i ELU"
      ]
    },
    {
      "cell_type": "code",
      "execution_count": null,
      "metadata": {
        "id": "sMlrR6uUAkV_"
      },
      "outputs": [],
      "source": [
        "class RNN_3(nn.Module):\n",
        "    def __init__(self, vocab_size, embed_dim, rnn_hidden_size, fc_hidden_size, slope):\n",
        "        super().__init__()\n",
        "        self.embedding = nn.Embedding(vocab_size,\n",
        "                                      embed_dim,\n",
        "                                      padding_idx=0)\n",
        "        self.rnn = nn.LSTM(embed_dim, rnn_hidden_size,\n",
        "                           batch_first=True)\n",
        "        self.fc1 = nn.Linear(rnn_hidden_size, fc_hidden_size)\n",
        "        self.leakyrelu = nn.LeakyReLU(slope)\n",
        "        self.fc2 = nn.Linear(fc_hidden_size, 1)\n",
        "        self.sigmoid = nn.Sigmoid()\n",
        "\n",
        "    def forward(self, text, lengths):\n",
        "        out = self.embedding(text)\n",
        "        out = nn.utils.rnn.pack_padded_sequence(out, lengths.cpu().numpy(), enforce_sorted=False, batch_first=True)\n",
        "        out, (hidden, cell) = self.rnn(out)\n",
        "        out = hidden[-1, :, :]\n",
        "        out = self.fc1(out)\n",
        "        out = self.leakyrelu(out)\n",
        "        out = self.fc2(out)\n",
        "        out = self.sigmoid(out)\n",
        "        return out\n",
        "\n",
        "class RNN_4(nn.Module):\n",
        "    def __init__(self, vocab_size, embed_dim, rnn_hidden_size, fc_hidden_size):\n",
        "        super().__init__()\n",
        "        self.embedding = nn.Embedding(vocab_size,\n",
        "                                      embed_dim,\n",
        "                                      padding_idx=0)\n",
        "        self.rnn = nn.LSTM(embed_dim, rnn_hidden_size,\n",
        "                           batch_first=True)\n",
        "        self.fc1 = nn.Linear(rnn_hidden_size, fc_hidden_size)\n",
        "        self.elu = nn.ELU()\n",
        "        self.fc2 = nn.Linear(fc_hidden_size, 1)\n",
        "        self.sigmoid = nn.Sigmoid()\n",
        "\n",
        "    def forward(self, text, lengths):\n",
        "        out = self.embedding(text)\n",
        "        out = nn.utils.rnn.pack_padded_sequence(out, lengths.cpu().numpy(), enforce_sorted=False, batch_first=True)\n",
        "        out, (hidden, cell) = self.rnn(out)\n",
        "        out = hidden[-1, :, :]\n",
        "        out = self.fc1(out)\n",
        "        out = self.elu(out)\n",
        "        out = self.fc2(out)\n",
        "        out = self.sigmoid(out)\n",
        "        return out\n",
        "\n",
        "vocab_size = len(vocab)\n",
        "embed_dim = 20\n",
        "rnn_hidden_size = 64\n",
        "fc_hidden_size = 64\n",
        "slope=0.1\n",
        "\n",
        "model_leaky = RNN_3(vocab_size, embed_dim, rnn_hidden_size, fc_hidden_size, slope)\n",
        "model_leaky = model_leaky.to(device)\n",
        "\n",
        "\n",
        "model_elu = RNN_4(vocab_size, embed_dim, rnn_hidden_size, fc_hidden_size)\n",
        "model_elu = model_elu.to(device)\n",
        "\n"
      ]
    },
    {
      "cell_type": "code",
      "execution_count": null,
      "metadata": {
        "colab": {
          "base_uri": "https://localhost:8080/"
        },
        "id": "3CtnoYpCAkWA",
        "outputId": "862039f2-18b6-4f22-ceb0-2df667586054"
      },
      "outputs": [
        {
          "name": "stdout",
          "output_type": "stream",
          "text": [
            "Epoch 0 accuracy: 0.6095 val_accuracy: 0.6638\n",
            "Epoch 1 accuracy: 0.7511 val_accuracy: 0.7786\n",
            "Epoch 2 accuracy: 0.8141 val_accuracy: 0.8138\n",
            "Epoch 3 accuracy: 0.8593 val_accuracy: 0.8206\n",
            "Epoch 4 accuracy: 0.8720 val_accuracy: 0.8030\n",
            "Epoch 5 accuracy: 0.9031 val_accuracy: 0.8386\n",
            "Epoch 6 accuracy: 0.9250 val_accuracy: 0.7760\n",
            "Epoch 7 accuracy: 0.9407 val_accuracy: 0.8530\n",
            "Epoch 8 accuracy: 0.9543 val_accuracy: 0.8506\n",
            "Epoch 9 accuracy: 0.9635 val_accuracy: 0.8582\n"
          ]
        }
      ],
      "source": [
        "loss_fn = nn.BCELoss()\n",
        "optimizer_leaky = torch.optim.Adam(model_leaky.parameters(), lr=0.001)\n",
        "optimizer_elu = torch.optim.Adam(model_elu.parameters(), lr=0.001)\n",
        "\n",
        "num_epochs = 10\n",
        "\n",
        "torch.manual_seed(1)\n",
        "\n",
        "for epoch in range(num_epochs):\n",
        "    acc_train, loss_train = train(train_dl, model_leaky, optimizer_leaky)\n",
        "    acc_valid, loss_valid = evaluate(valid_dl, model_leaky)\n",
        "    print(f'Epoch {epoch} accuracy: {acc_train:.4f} val_accuracy: {acc_valid:.4f}')\n"
      ]
    },
    {
      "cell_type": "code",
      "execution_count": null,
      "metadata": {
        "colab": {
          "base_uri": "https://localhost:8080/"
        },
        "id": "Lxc9y_0akscO",
        "outputId": "dd3c8b0a-1456-4ca4-fca1-7478bd555a8a"
      },
      "outputs": [
        {
          "name": "stdout",
          "output_type": "stream",
          "text": [
            "Epoch 0 accuracy: 0.5842 val_accuracy: 0.6304\n",
            "Epoch 1 accuracy: 0.6735 val_accuracy: 0.6938\n",
            "Epoch 2 accuracy: 0.7474 val_accuracy: 0.7480\n",
            "Epoch 3 accuracy: 0.8153 val_accuracy: 0.8094\n",
            "Epoch 4 accuracy: 0.8566 val_accuracy: 0.8268\n",
            "Epoch 5 accuracy: 0.8952 val_accuracy: 0.8450\n",
            "Epoch 6 accuracy: 0.9041 val_accuracy: 0.8404\n",
            "Epoch 7 accuracy: 0.9345 val_accuracy: 0.8520\n",
            "Epoch 8 accuracy: 0.9484 val_accuracy: 0.8632\n",
            "Epoch 9 accuracy: 0.9589 val_accuracy: 0.8648\n"
          ]
        }
      ],
      "source": [
        "for epoch in range(num_epochs):\n",
        "    acc_train, loss_train = train(train_dl, model_elu, optimizer_elu)\n",
        "    acc_valid, loss_valid = evaluate(valid_dl, model_elu)\n",
        "    print(f'Epoch {epoch} accuracy: {acc_train:.4f} val_accuracy: {acc_valid:.4f}')"
      ]
    },
    {
      "cell_type": "code",
      "execution_count": null,
      "metadata": {
        "id": "EwbVzV_uAkWA"
      },
      "outputs": [],
      "source": [
        "acc_test_leaky, _ = evaluate(test_dl, model_leaky)\n",
        "acc_test_elu, _ = evaluate(test_dl, model_elu)\n"
      ]
    },
    {
      "cell_type": "code",
      "execution_count": null,
      "metadata": {
        "colab": {
          "base_uri": "https://localhost:8080/"
        },
        "id": "vCIIamXQHqH0",
        "outputId": "cdd5a471-021b-443f-ffc2-6698906d8202"
      },
      "outputs": [
        {
          "name": "stdout",
          "output_type": "stream",
          "text": [
            "test_accuracy activation function LeakyRelu negative slope=0.1: 0.8499\n",
            "test_accuracy activation function LeakyRelu negative slope=0.2: 0.8552\n"
          ]
        }
      ],
      "source": [
        "#print(f'test_accuracy default model: {acc_test:.4f}')\n",
        "print(f'test_accuracy activation function LeakyRelu negative slope=0.1: {acc_test_leaky:.4f}')\n",
        "print(f'test_accuracy activation function ELU: {acc_test_elu:.4f}')"
      ]
    },
    {
      "cell_type": "markdown",
      "metadata": {
        "id": "4pTViFLSHtsT"
      },
      "source": [
        "### Finalny model\n",
        "\n",
        "wybieramy, które z powyższych podejść poprawiły jakość wyjściowego modelu i stosujemy wszystkie z nich. Sprawdzamy trzy tempa uczenia lr=0.01, 0.001, 0.0001\n",
        "\n",
        "\n",
        "Jakość poprawiły:\n",
        "- embedding = 50\n",
        "- dodatkowa warstwa LSTM\n",
        "- dwie warstwy dropout"
      ]
    },
    {
      "cell_type": "code",
      "execution_count": null,
      "metadata": {
        "id": "Mi461--H9CNv"
      },
      "outputs": [],
      "source": [
        "num_layers=2\n",
        "vocab_size = len(vocab)\n",
        "embed_dim = 50\n",
        "rnn_hidden_size = 64\n",
        "fc_hidden_size = 64\n",
        "p1=0.3\n",
        "p2=0.4\n",
        "\n",
        "\n",
        "class RNN_opt(nn.Module):\n",
        "    def __init__(self, vocab_size, embed_dim, rnn_hidden_size, fc_hidden_size, num_layers, p1,p2):\n",
        "        super().__init__()\n",
        "        self.embedding = nn.Embedding(vocab_size,\n",
        "                                      embed_dim,\n",
        "                                      padding_idx=0)\n",
        "        self.rnn = nn.LSTM(embed_dim, rnn_hidden_size, num_layers,\n",
        "                           batch_first=True)\n",
        "        self.fc1 = nn.Linear(rnn_hidden_size, fc_hidden_size)\n",
        "        self.relu = nn.ReLU()\n",
        "        self.dropout1 = nn.Dropout(p1)\n",
        "        self.fc2 = nn.Linear(fc_hidden_size, 1)\n",
        "        self.sigmoid = nn.Sigmoid()\n",
        "        self.dropout2 = nn.Dropout(p2)\n",
        "\n",
        "\n",
        "    def forward(self, text, lengths):\n",
        "        out = self.embedding(text)\n",
        "        out = nn.utils.rnn.pack_padded_sequence(out, lengths.cpu().numpy(), enforce_sorted=False, batch_first=True)\n",
        "        out, (hidden, cell) = self.rnn(out)\n",
        "        out = hidden[-1, :, :]\n",
        "        out = self.fc1(out)\n",
        "        out = self.relu(out)\n",
        "        out = self.dropout1(out)\n",
        "        out = self.fc2(out)\n",
        "        out = self.dropout2(out)\n",
        "        out = self.sigmoid(out)\n",
        "        return out\n",
        "\n",
        "\n",
        "model_opt1 = RNN_opt(vocab_size, embed_dim, rnn_hidden_size, fc_hidden_size, num_layers,p1,p2)\n",
        "model_opt1 = model_opt1.to(device)\n",
        "\n",
        "model_opt2 = RNN_opt(vocab_size, embed_dim, rnn_hidden_size, fc_hidden_size, num_layers,p1,p2)\n",
        "model_opt2 = model_opt2.to(device)\n",
        "\n",
        "model_opt3 = RNN_opt(vocab_size, embed_dim, rnn_hidden_size, fc_hidden_size, num_layers,p1,p2)\n",
        "model_opt3 = model_opt3.to(device)\n"
      ]
    },
    {
      "cell_type": "code",
      "execution_count": null,
      "metadata": {
        "colab": {
          "base_uri": "https://localhost:8080/"
        },
        "id": "Be4CgFZM9CNv",
        "outputId": "7e5a331c-2c23-40d3-f37d-d5c0f0a48a3f"
      },
      "outputs": [
        {
          "name": "stdout",
          "output_type": "stream",
          "text": [
            "Epoch 0 accuracy: 0.6058 val_accuracy: 0.8520\n",
            "Epoch 1 accuracy: 0.7287 val_accuracy: 0.8762\n",
            "Epoch 2 accuracy: 0.7582 val_accuracy: 0.8842\n",
            "Epoch 3 accuracy: 0.7685 val_accuracy: 0.8816\n",
            "Epoch 4 accuracy: 0.7782 val_accuracy: 0.8830\n",
            "Epoch 5 accuracy: 0.7833 val_accuracy: 0.8658\n",
            "Epoch 6 accuracy: 0.7857 val_accuracy: 0.8592\n",
            "Epoch 7 accuracy: 0.7922 val_accuracy: 0.8716\n",
            "Epoch 8 accuracy: 0.7919 val_accuracy: 0.8722\n",
            "Epoch 9 accuracy: 0.7903 val_accuracy: 0.8732\n",
            "Epoch 0 accuracy: 0.5759 val_accuracy: 0.7006\n",
            "Epoch 1 accuracy: 0.6624 val_accuracy: 0.6986\n",
            "Epoch 2 accuracy: 0.6390 val_accuracy: 0.7928\n",
            "Epoch 3 accuracy: 0.7059 val_accuracy: 0.8262\n",
            "Epoch 4 accuracy: 0.7379 val_accuracy: 0.8690\n",
            "Epoch 5 accuracy: 0.7540 val_accuracy: 0.8802\n",
            "Epoch 6 accuracy: 0.7639 val_accuracy: 0.8790\n",
            "Epoch 7 accuracy: 0.7780 val_accuracy: 0.8814\n",
            "Epoch 8 accuracy: 0.7784 val_accuracy: 0.8774\n",
            "Epoch 9 accuracy: 0.7852 val_accuracy: 0.8824\n",
            "Epoch 0 accuracy: 0.5141 val_accuracy: 0.5640\n",
            "Epoch 1 accuracy: 0.5722 val_accuracy: 0.6646\n",
            "Epoch 2 accuracy: 0.6159 val_accuracy: 0.7048\n",
            "Epoch 3 accuracy: 0.6378 val_accuracy: 0.7064\n",
            "Epoch 4 accuracy: 0.6554 val_accuracy: 0.7524\n",
            "Epoch 5 accuracy: 0.6690 val_accuracy: 0.7866\n",
            "Epoch 6 accuracy: 0.6841 val_accuracy: 0.7942\n",
            "Epoch 7 accuracy: 0.6925 val_accuracy: 0.8110\n",
            "Epoch 8 accuracy: 0.7048 val_accuracy: 0.8198\n",
            "Epoch 9 accuracy: 0.7083 val_accuracy: 0.8252\n"
          ]
        }
      ],
      "source": [
        "loss_fn = nn.BCELoss()\n",
        "optimizer1 = torch.optim.Adam(model_opt1.parameters(), lr=0.01)\n",
        "optimizer2 = torch.optim.Adam(model_opt2.parameters(), lr=0.001)\n",
        "optimizer3 = torch.optim.Adam(model_opt3.parameters(), lr=0.0001)\n",
        "\n",
        "num_epochs = 10\n",
        "\n",
        "torch.manual_seed(1)\n",
        "\n",
        "for epoch in range(num_epochs):\n",
        "    acc_train, loss_train = train(train_dl, model_opt1, optimizer1)\n",
        "    acc_valid, loss_valid = evaluate(valid_dl, model_opt1)\n",
        "    print(f'Epoch {epoch} accuracy: {acc_train:.4f} val_accuracy: {acc_valid:.4f}')\n",
        "\n",
        "for epoch in range(num_epochs):\n",
        "    acc_train, loss_train = train(train_dl, model_opt2, optimizer2)\n",
        "    acc_valid, loss_valid = evaluate(valid_dl, model_opt2)\n",
        "    print(f'Epoch {epoch} accuracy: {acc_train:.4f} val_accuracy: {acc_valid:.4f}')\n",
        "\n",
        "for epoch in range(num_epochs):\n",
        "    acc_train, loss_train = train(train_dl, model_opt3, optimizer3)\n",
        "    acc_valid, loss_valid = evaluate(valid_dl, model_opt3)\n",
        "    print(f'Epoch {epoch} accuracy: {acc_train:.4f} val_accuracy: {acc_valid:.4f}')"
      ]
    },
    {
      "cell_type": "code",
      "execution_count": null,
      "metadata": {
        "id": "5dACt1Rw9CNw"
      },
      "outputs": [],
      "source": [
        "acc_test1, _ = evaluate(test_dl, model_opt1)\n",
        "acc_test2, _ = evaluate(test_dl, model_opt2)\n",
        "acc_test3, _ = evaluate(test_dl, model_opt3)"
      ]
    },
    {
      "cell_type": "code",
      "execution_count": null,
      "metadata": {
        "colab": {
          "base_uri": "https://localhost:8080/"
        },
        "id": "PXrj2DIC9CNw",
        "outputId": "7c278b65-b0ff-4af1-cee2-bfe79f3d6249"
      },
      "outputs": [
        {
          "name": "stdout",
          "output_type": "stream",
          "text": [
            "test_accuracy optimized model with lr=0.01: 0.8575\n",
            "test_accuracy optimized model with lr=0.001: 0.8703\n",
            "test_accuracy optimized model with lr=0.0001: 0.8146\n"
          ]
        }
      ],
      "source": [
        "print(f'test_accuracy optimized model with lr=0.01: {acc_test1:.4f}')\n",
        "print(f'test_accuracy optimized model with lr=0.001: {acc_test2:.4f}')\n",
        "print(f'test_accuracy optimized model with lr=0.0001: {acc_test3:.4f}')"
      ]
    },
    {
      "cell_type": "markdown",
      "metadata": {},
      "source": [
        "### Poprawiliśmy dokładność modelu na zbiorze testowym o niecałe 2%"
      ]
    },
    {
      "cell_type": "markdown",
      "metadata": {},
      "source": []
    }
  ],
  "metadata": {
    "accelerator": "GPU",
    "colab": {
      "gpuType": "T4",
      "provenance": []
    },
    "kernelspec": {
      "display_name": "Python 3",
      "name": "python3"
    },
    "language_info": {
      "codemirror_mode": {
        "name": "ipython",
        "version": 3
      },
      "file_extension": ".py",
      "mimetype": "text/x-python",
      "name": "python",
      "nbconvert_exporter": "python",
      "pygments_lexer": "ipython3",
      "version": "3.11.5"
    }
  },
  "nbformat": 4,
  "nbformat_minor": 0
}
