{
 "cells": [
  {
   "cell_type": "markdown",
   "metadata": {
    "tags": []
   },
   "source": [
    "# Sieci neuronowe i Deep Learning\n",
    "# Temat 1: Wprowadzenie - perceptron"
   ]
  },
  {
   "cell_type": "markdown",
   "metadata": {},
   "source": [
    "## Zadanie 1.1\n",
    "\n",
    "Zmodyfikować definicję klasy `Perceptron` tak, aby wektor wag inicjowany był jako wektor zerowy (należy zmienić fragment `self.w_ = rgen.normal(loc=0.0, scale=0.01, size=X.shape[1])`; można wykorzystać np. funkcję `np.zeros()` z biblioteki NumPy).\n",
    "\n",
    "Dla tak zmodyfikowanej metody utworzyć kilka modeli perceptronu na danych Iris (analogicznie do omówionego przykładu) z różnymi wartościami parametru $\\eta$.\n",
    "\n",
    "Jak w tym przypadku w zależności od wartości parametru $\\eta$ zmienia się postać modelu? Uzasadnić zaobserwowaną zależność."
   ]
  },
  {
   "cell_type": "markdown",
   "metadata": {},
   "source": [
    "## Zadanie 1.2\n",
    "\n",
    "Sprawdzić, czy zaobserwowany w zadaniu 1.1 efekt znika, gdy wagi inicjalizowane są przez wartości niezerowe."
   ]
  },
  {
   "cell_type": "markdown",
   "metadata": {},
   "source": [
    "## Zadanie 1.3*\n",
    "\n",
    "Sprawdzić ponadto, jak zachowywała będzie się metoda perceptronu, gdy zmieniali będziemy (niezerowe) wartości początkowe wag.\n",
    "\n",
    "Jaki ogólny wniosek na temat zbieżności metody perceptronu można wyciągnąć na podstawie przeprowadzonych eksperymentów?"
   ]
  }
 ],
 "metadata": {
  "anaconda-cloud": {},
  "kernelspec": {
   "display_name": "Python 3 (ipykernel)",
   "language": "python",
   "name": "python3"
  },
  "language_info": {
   "codemirror_mode": {
    "name": "ipython",
    "version": 3
   },
   "file_extension": ".py",
   "mimetype": "text/x-python",
   "name": "python",
   "nbconvert_exporter": "python",
   "pygments_lexer": "ipython3",
   "version": "3.11.5"
  }
 },
 "nbformat": 4,
 "nbformat_minor": 4
}
