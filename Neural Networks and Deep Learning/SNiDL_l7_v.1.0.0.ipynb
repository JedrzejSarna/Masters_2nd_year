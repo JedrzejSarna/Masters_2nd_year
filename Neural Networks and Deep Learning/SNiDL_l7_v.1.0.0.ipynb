{
 "cells": [
  {
   "cell_type": "markdown",
   "metadata": {
    "tags": []
   },
   "source": [
    "# Sieci neuronowe i Deep Learning\n",
    "# Temat 7: Mini projekt"
   ]
  },
  {
   "cell_type": "markdown",
   "metadata": {},
   "source": [
    "## Zadanie 7.1\n",
    "\n",
    "Przeanalizować poniższy projekt analizy danych (budowa sieci do predykcji zużycia paliwa) i uzupełnić brakujące fragmenty (zaznaczone w kodzie przez ```#####```)."
   ]
  },
  {
   "cell_type": "markdown",
   "metadata": {},
   "source": [
    "## Zadanie 7.2*\n",
    "\n",
    "Potraktować zbiór testowy z powyższej analizy jako zbiór walidacyjny i na jakiego podstawie dobrać optymalne hiperparametry rozważanego modelu."
   ]
  },
  {
   "cell_type": "code",
   "execution_count": 1,
   "metadata": {},
   "outputs": [
    {
     "name": "stderr",
     "output_type": "stream",
     "text": [
      "/Users/jedrzejsarna/anaconda3/lib/python3.11/site-packages/pandas/core/arrays/masked.py:60: UserWarning: Pandas requires version '1.3.6' or newer of 'bottleneck' (version '1.3.5' currently installed).\n",
      "  from pandas.core import (\n"
     ]
    }
   ],
   "source": [
    "import numpy as np\n",
    "import torch\n",
    "import torch.nn as nn\n",
    "import pandas as pd\n",
    "\n",
    "from IPython.display import Image"
   ]
  },
  {
   "cell_type": "markdown",
   "metadata": {},
   "source": [
    "## Predykcja zużycia paliwa przez samochód (w milach na galon: MPG)"
   ]
  },
  {
   "cell_type": "markdown",
   "metadata": {},
   "source": [
    "Analiza przeprowadzona zostanie w oparciu o zbiór danych\n",
    "*Auto MPG* (dane i opis: https://archive.ics.uci.edu/ml/datasets/auto+mpg)."
   ]
  },
  {
   "cell_type": "code",
   "execution_count": null,
   "metadata": {
    "scrolled": true
   },
   "outputs": [],
   "source": [
    "Image(filename='autoMPGdataset.png', width=700)"
   ]
  },
  {
   "cell_type": "markdown",
   "metadata": {},
   "source": [
    "Wczytanie danych:"
   ]
  },
  {
   "cell_type": "code",
   "execution_count": 3,
   "metadata": {
    "scrolled": true
   },
   "outputs": [
    {
     "data": {
      "text/html": [
       "<div>\n",
       "<style scoped>\n",
       "    .dataframe tbody tr th:only-of-type {\n",
       "        vertical-align: middle;\n",
       "    }\n",
       "\n",
       "    .dataframe tbody tr th {\n",
       "        vertical-align: top;\n",
       "    }\n",
       "\n",
       "    .dataframe thead th {\n",
       "        text-align: right;\n",
       "    }\n",
       "</style>\n",
       "<table border=\"1\" class=\"dataframe\">\n",
       "  <thead>\n",
       "    <tr style=\"text-align: right;\">\n",
       "      <th></th>\n",
       "      <th>MPG</th>\n",
       "      <th>Cylinders</th>\n",
       "      <th>Displacement</th>\n",
       "      <th>Horsepower</th>\n",
       "      <th>Weight</th>\n",
       "      <th>Acceleration</th>\n",
       "      <th>Model Year</th>\n",
       "      <th>Origin</th>\n",
       "    </tr>\n",
       "  </thead>\n",
       "  <tbody>\n",
       "    <tr>\n",
       "      <th>393</th>\n",
       "      <td>27.0</td>\n",
       "      <td>4</td>\n",
       "      <td>140.0</td>\n",
       "      <td>86.0</td>\n",
       "      <td>2790.0</td>\n",
       "      <td>15.6</td>\n",
       "      <td>82</td>\n",
       "      <td>1</td>\n",
       "    </tr>\n",
       "    <tr>\n",
       "      <th>394</th>\n",
       "      <td>44.0</td>\n",
       "      <td>4</td>\n",
       "      <td>97.0</td>\n",
       "      <td>52.0</td>\n",
       "      <td>2130.0</td>\n",
       "      <td>24.6</td>\n",
       "      <td>82</td>\n",
       "      <td>2</td>\n",
       "    </tr>\n",
       "    <tr>\n",
       "      <th>395</th>\n",
       "      <td>32.0</td>\n",
       "      <td>4</td>\n",
       "      <td>135.0</td>\n",
       "      <td>84.0</td>\n",
       "      <td>2295.0</td>\n",
       "      <td>11.6</td>\n",
       "      <td>82</td>\n",
       "      <td>1</td>\n",
       "    </tr>\n",
       "    <tr>\n",
       "      <th>396</th>\n",
       "      <td>28.0</td>\n",
       "      <td>4</td>\n",
       "      <td>120.0</td>\n",
       "      <td>79.0</td>\n",
       "      <td>2625.0</td>\n",
       "      <td>18.6</td>\n",
       "      <td>82</td>\n",
       "      <td>1</td>\n",
       "    </tr>\n",
       "    <tr>\n",
       "      <th>397</th>\n",
       "      <td>31.0</td>\n",
       "      <td>4</td>\n",
       "      <td>119.0</td>\n",
       "      <td>82.0</td>\n",
       "      <td>2720.0</td>\n",
       "      <td>19.4</td>\n",
       "      <td>82</td>\n",
       "      <td>1</td>\n",
       "    </tr>\n",
       "  </tbody>\n",
       "</table>\n",
       "</div>"
      ],
      "text/plain": [
       "      MPG  Cylinders  Displacement  Horsepower  Weight  Acceleration  \\\n",
       "393  27.0          4         140.0        86.0  2790.0          15.6   \n",
       "394  44.0          4          97.0        52.0  2130.0          24.6   \n",
       "395  32.0          4         135.0        84.0  2295.0          11.6   \n",
       "396  28.0          4         120.0        79.0  2625.0          18.6   \n",
       "397  31.0          4         119.0        82.0  2720.0          19.4   \n",
       "\n",
       "     Model Year  Origin  \n",
       "393          82       1  \n",
       "394          82       2  \n",
       "395          82       1  \n",
       "396          82       1  \n",
       "397          82       1  "
      ]
     },
     "execution_count": 3,
     "metadata": {},
     "output_type": "execute_result"
    }
   ],
   "source": [
    "url = 'http://archive.ics.uci.edu/ml/machine-learning-databases/auto-mpg/auto-mpg.data'\n",
    "column_names = ['MPG', 'Cylinders', 'Displacement', 'Horsepower', 'Weight',\n",
    "                'Acceleration', 'Model Year', 'Origin']\n",
    "\n",
    "df = pd.read_csv(url, names=column_names,\n",
    "                 na_values = \"?\", comment='\\t',\n",
    "                 sep=\" \", skipinitialspace=True)\n",
    "\n",
    "df.tail()"
   ]
  },
  {
   "cell_type": "markdown",
   "metadata": {},
   "source": [
    "Usuwamy wiersze z brakami:"
   ]
  },
  {
   "cell_type": "code",
   "execution_count": 4,
   "metadata": {
    "scrolled": true
   },
   "outputs": [
    {
     "name": "stdout",
     "output_type": "stream",
     "text": [
      "MPG             0\n",
      "Cylinders       0\n",
      "Displacement    0\n",
      "Horsepower      6\n",
      "Weight          0\n",
      "Acceleration    0\n",
      "Model Year      0\n",
      "Origin          0\n",
      "dtype: int64\n"
     ]
    },
    {
     "data": {
      "text/html": [
       "<div>\n",
       "<style scoped>\n",
       "    .dataframe tbody tr th:only-of-type {\n",
       "        vertical-align: middle;\n",
       "    }\n",
       "\n",
       "    .dataframe tbody tr th {\n",
       "        vertical-align: top;\n",
       "    }\n",
       "\n",
       "    .dataframe thead th {\n",
       "        text-align: right;\n",
       "    }\n",
       "</style>\n",
       "<table border=\"1\" class=\"dataframe\">\n",
       "  <thead>\n",
       "    <tr style=\"text-align: right;\">\n",
       "      <th></th>\n",
       "      <th>MPG</th>\n",
       "      <th>Cylinders</th>\n",
       "      <th>Displacement</th>\n",
       "      <th>Horsepower</th>\n",
       "      <th>Weight</th>\n",
       "      <th>Acceleration</th>\n",
       "      <th>Model Year</th>\n",
       "      <th>Origin</th>\n",
       "    </tr>\n",
       "  </thead>\n",
       "  <tbody>\n",
       "    <tr>\n",
       "      <th>387</th>\n",
       "      <td>27.0</td>\n",
       "      <td>4</td>\n",
       "      <td>140.0</td>\n",
       "      <td>86.0</td>\n",
       "      <td>2790.0</td>\n",
       "      <td>15.6</td>\n",
       "      <td>82</td>\n",
       "      <td>1</td>\n",
       "    </tr>\n",
       "    <tr>\n",
       "      <th>388</th>\n",
       "      <td>44.0</td>\n",
       "      <td>4</td>\n",
       "      <td>97.0</td>\n",
       "      <td>52.0</td>\n",
       "      <td>2130.0</td>\n",
       "      <td>24.6</td>\n",
       "      <td>82</td>\n",
       "      <td>2</td>\n",
       "    </tr>\n",
       "    <tr>\n",
       "      <th>389</th>\n",
       "      <td>32.0</td>\n",
       "      <td>4</td>\n",
       "      <td>135.0</td>\n",
       "      <td>84.0</td>\n",
       "      <td>2295.0</td>\n",
       "      <td>11.6</td>\n",
       "      <td>82</td>\n",
       "      <td>1</td>\n",
       "    </tr>\n",
       "    <tr>\n",
       "      <th>390</th>\n",
       "      <td>28.0</td>\n",
       "      <td>4</td>\n",
       "      <td>120.0</td>\n",
       "      <td>79.0</td>\n",
       "      <td>2625.0</td>\n",
       "      <td>18.6</td>\n",
       "      <td>82</td>\n",
       "      <td>1</td>\n",
       "    </tr>\n",
       "    <tr>\n",
       "      <th>391</th>\n",
       "      <td>31.0</td>\n",
       "      <td>4</td>\n",
       "      <td>119.0</td>\n",
       "      <td>82.0</td>\n",
       "      <td>2720.0</td>\n",
       "      <td>19.4</td>\n",
       "      <td>82</td>\n",
       "      <td>1</td>\n",
       "    </tr>\n",
       "  </tbody>\n",
       "</table>\n",
       "</div>"
      ],
      "text/plain": [
       "      MPG  Cylinders  Displacement  Horsepower  Weight  Acceleration  \\\n",
       "387  27.0          4         140.0        86.0  2790.0          15.6   \n",
       "388  44.0          4          97.0        52.0  2130.0          24.6   \n",
       "389  32.0          4         135.0        84.0  2295.0          11.6   \n",
       "390  28.0          4         120.0        79.0  2625.0          18.6   \n",
       "391  31.0          4         119.0        82.0  2720.0          19.4   \n",
       "\n",
       "     Model Year  Origin  \n",
       "387          82       1  \n",
       "388          82       2  \n",
       "389          82       1  \n",
       "390          82       1  \n",
       "391          82       1  "
      ]
     },
     "execution_count": 4,
     "metadata": {},
     "output_type": "execute_result"
    }
   ],
   "source": [
    "print(df.isna().sum())\n",
    "\n",
    "df = df.dropna()    ###########\n",
    "df = df.reset_index(drop=True)\n",
    "df.tail()"
   ]
  },
  {
   "cell_type": "markdown",
   "metadata": {},
   "source": [
    "Tworzymy zbiór treningowy (80% całego zbioru danych) i zbiór testowy:"
   ]
  },
  {
   "cell_type": "code",
   "execution_count": 5,
   "metadata": {},
   "outputs": [
    {
     "data": {
      "text/html": [
       "<div>\n",
       "<style scoped>\n",
       "    .dataframe tbody tr th:only-of-type {\n",
       "        vertical-align: middle;\n",
       "    }\n",
       "\n",
       "    .dataframe tbody tr th {\n",
       "        vertical-align: top;\n",
       "    }\n",
       "\n",
       "    .dataframe thead th {\n",
       "        text-align: right;\n",
       "    }\n",
       "</style>\n",
       "<table border=\"1\" class=\"dataframe\">\n",
       "  <thead>\n",
       "    <tr style=\"text-align: right;\">\n",
       "      <th></th>\n",
       "      <th>count</th>\n",
       "      <th>mean</th>\n",
       "      <th>std</th>\n",
       "      <th>min</th>\n",
       "      <th>25%</th>\n",
       "      <th>50%</th>\n",
       "      <th>75%</th>\n",
       "      <th>max</th>\n",
       "    </tr>\n",
       "  </thead>\n",
       "  <tbody>\n",
       "    <tr>\n",
       "      <th>MPG</th>\n",
       "      <td>313.0</td>\n",
       "      <td>23.094569</td>\n",
       "      <td>7.492415</td>\n",
       "      <td>9.0</td>\n",
       "      <td>16.9</td>\n",
       "      <td>22.3</td>\n",
       "      <td>28.1</td>\n",
       "      <td>46.6</td>\n",
       "    </tr>\n",
       "    <tr>\n",
       "      <th>Cylinders</th>\n",
       "      <td>313.0</td>\n",
       "      <td>5.507987</td>\n",
       "      <td>1.741490</td>\n",
       "      <td>3.0</td>\n",
       "      <td>4.0</td>\n",
       "      <td>4.0</td>\n",
       "      <td>8.0</td>\n",
       "      <td>8.0</td>\n",
       "    </tr>\n",
       "    <tr>\n",
       "      <th>Displacement</th>\n",
       "      <td>313.0</td>\n",
       "      <td>196.442492</td>\n",
       "      <td>107.096439</td>\n",
       "      <td>68.0</td>\n",
       "      <td>105.0</td>\n",
       "      <td>151.0</td>\n",
       "      <td>302.0</td>\n",
       "      <td>455.0</td>\n",
       "    </tr>\n",
       "    <tr>\n",
       "      <th>Horsepower</th>\n",
       "      <td>313.0</td>\n",
       "      <td>106.246006</td>\n",
       "      <td>38.391040</td>\n",
       "      <td>46.0</td>\n",
       "      <td>76.0</td>\n",
       "      <td>95.0</td>\n",
       "      <td>130.0</td>\n",
       "      <td>225.0</td>\n",
       "    </tr>\n",
       "    <tr>\n",
       "      <th>Weight</th>\n",
       "      <td>313.0</td>\n",
       "      <td>2998.501597</td>\n",
       "      <td>860.658410</td>\n",
       "      <td>1613.0</td>\n",
       "      <td>2234.0</td>\n",
       "      <td>2800.0</td>\n",
       "      <td>3664.0</td>\n",
       "      <td>5140.0</td>\n",
       "    </tr>\n",
       "    <tr>\n",
       "      <th>Acceleration</th>\n",
       "      <td>313.0</td>\n",
       "      <td>15.346326</td>\n",
       "      <td>2.712730</td>\n",
       "      <td>8.0</td>\n",
       "      <td>13.5</td>\n",
       "      <td>15.2</td>\n",
       "      <td>17.0</td>\n",
       "      <td>24.8</td>\n",
       "    </tr>\n",
       "    <tr>\n",
       "      <th>Model Year</th>\n",
       "      <td>313.0</td>\n",
       "      <td>75.875399</td>\n",
       "      <td>3.635712</td>\n",
       "      <td>70.0</td>\n",
       "      <td>73.0</td>\n",
       "      <td>76.0</td>\n",
       "      <td>79.0</td>\n",
       "      <td>82.0</td>\n",
       "    </tr>\n",
       "    <tr>\n",
       "      <th>Origin</th>\n",
       "      <td>313.0</td>\n",
       "      <td>1.568690</td>\n",
       "      <td>0.794156</td>\n",
       "      <td>1.0</td>\n",
       "      <td>1.0</td>\n",
       "      <td>1.0</td>\n",
       "      <td>2.0</td>\n",
       "      <td>3.0</td>\n",
       "    </tr>\n",
       "  </tbody>\n",
       "</table>\n",
       "</div>"
      ],
      "text/plain": [
       "              count         mean         std     min     25%     50%     75%  \\\n",
       "MPG           313.0    23.094569    7.492415     9.0    16.9    22.3    28.1   \n",
       "Cylinders     313.0     5.507987    1.741490     3.0     4.0     4.0     8.0   \n",
       "Displacement  313.0   196.442492  107.096439    68.0   105.0   151.0   302.0   \n",
       "Horsepower    313.0   106.246006   38.391040    46.0    76.0    95.0   130.0   \n",
       "Weight        313.0  2998.501597  860.658410  1613.0  2234.0  2800.0  3664.0   \n",
       "Acceleration  313.0    15.346326    2.712730     8.0    13.5    15.2    17.0   \n",
       "Model Year    313.0    75.875399    3.635712    70.0    73.0    76.0    79.0   \n",
       "Origin        313.0     1.568690    0.794156     1.0     1.0     1.0     2.0   \n",
       "\n",
       "                 max  \n",
       "MPG             46.6  \n",
       "Cylinders        8.0  \n",
       "Displacement   455.0  \n",
       "Horsepower     225.0  \n",
       "Weight        5140.0  \n",
       "Acceleration    24.8  \n",
       "Model Year      82.0  \n",
       "Origin           3.0  "
      ]
     },
     "execution_count": 5,
     "metadata": {},
     "output_type": "execute_result"
    }
   ],
   "source": [
    "import sklearn\n",
    "import sklearn.model_selection\n",
    "\n",
    "\n",
    "df_train, df_test = sklearn.model_selection.train_test_split(df, train_size=0.8)\n",
    "train_stats = df_train.describe().transpose()\n",
    "train_stats"
   ]
  },
  {
   "cell_type": "code",
   "execution_count": 6,
   "metadata": {
    "collapsed": true
   },
   "outputs": [
    {
     "name": "stderr",
     "output_type": "stream",
     "text": [
      "/var/folders/n3/4qctfjhd43j9h6fypc3p1h480000gn/T/ipykernel_80422/4283327601.py:8: FutureWarning: Setting an item of incompatible dtype is deprecated and will raise in a future error of pandas. Value '[-0.86591765  1.43096562  0.28252398 -0.86591765  0.28252398 -0.86591765\n",
      "  1.43096562  0.28252398  1.43096562 -0.86591765  1.43096562 -0.86591765\n",
      "  1.43096562 -0.86591765  1.43096562 -0.86591765  1.43096562 -0.86591765\n",
      "  1.43096562 -0.86591765  0.28252398 -0.86591765 -0.86591765  1.43096562\n",
      " -0.86591765  1.43096562 -0.29169684 -0.86591765  1.43096562 -0.86591765\n",
      " -0.86591765 -0.86591765 -0.86591765  0.28252398  0.28252398  1.43096562\n",
      " -0.86591765 -0.86591765 -0.86591765 -0.86591765  1.43096562 -0.86591765\n",
      " -0.86591765 -0.86591765 -0.86591765 -0.86591765 -1.44013847 -0.86591765\n",
      " -0.86591765  1.43096562 -0.86591765 -0.86591765  1.43096562  1.43096562\n",
      "  1.43096562 -0.86591765  0.28252398 -0.86591765  0.28252398 -0.86591765\n",
      " -0.86591765  0.28252398  0.28252398  1.43096562  0.28252398  0.28252398\n",
      " -0.86591765 -0.86591765 -0.86591765  0.28252398 -0.86591765  1.43096562\n",
      " -0.86591765 -0.86591765 -0.86591765  0.28252398  0.28252398 -1.44013847\n",
      "  0.28252398  0.28252398 -0.86591765 -0.86591765 -0.86591765  0.28252398\n",
      " -0.86591765  1.43096562  0.28252398 -0.86591765 -0.86591765 -0.86591765\n",
      "  0.28252398  0.28252398 -0.86591765  0.28252398  1.43096562  1.43096562\n",
      " -0.86591765  1.43096562 -0.86591765 -0.86591765 -0.86591765 -0.86591765\n",
      " -0.86591765  1.43096562  1.43096562 -0.86591765 -0.86591765  1.43096562\n",
      "  1.43096562  1.43096562 -1.44013847  0.28252398 -0.86591765  0.28252398\n",
      " -0.86591765 -0.86591765 -0.86591765  0.28252398 -0.86591765 -0.86591765\n",
      " -0.86591765 -0.86591765 -0.86591765 -0.86591765  0.28252398  0.28252398\n",
      " -0.86591765 -0.86591765  1.43096562  0.28252398  0.28252398 -0.29169684\n",
      " -0.86591765 -0.86591765 -0.86591765  0.28252398 -0.86591765  0.28252398\n",
      "  1.43096562 -0.86591765  0.28252398  0.28252398 -0.86591765  1.43096562\n",
      "  0.28252398  0.28252398 -0.86591765 -0.86591765 -0.86591765  1.43096562\n",
      "  0.28252398  0.28252398 -0.86591765  1.43096562  1.43096562 -0.86591765\n",
      " -0.86591765 -0.86591765  1.43096562  1.43096562 -0.86591765 -0.86591765\n",
      "  0.28252398 -0.86591765 -0.86591765  1.43096562 -0.86591765  1.43096562\n",
      "  1.43096562 -0.86591765 -0.86591765  1.43096562 -0.86591765 -0.86591765\n",
      " -0.86591765 -0.86591765  1.43096562  0.28252398  0.28252398  0.28252398\n",
      "  1.43096562 -0.86591765  1.43096562  1.43096562 -0.86591765 -0.86591765\n",
      "  1.43096562  1.43096562 -0.86591765  1.43096562  1.43096562 -0.86591765\n",
      "  1.43096562 -0.86591765 -0.86591765  1.43096562 -0.86591765  1.43096562\n",
      " -0.86591765  1.43096562 -0.86591765  1.43096562 -0.86591765  1.43096562\n",
      "  1.43096562  1.43096562  0.28252398 -0.86591765 -0.86591765  1.43096562\n",
      "  1.43096562  0.28252398  1.43096562 -0.86591765 -0.86591765  1.43096562\n",
      "  1.43096562 -0.86591765  0.28252398 -0.86591765 -0.86591765  1.43096562\n",
      "  0.28252398 -0.86591765 -0.86591765  1.43096562  0.28252398 -0.86591765\n",
      " -0.86591765  1.43096562 -0.86591765 -0.86591765 -0.86591765 -0.86591765\n",
      " -0.86591765  1.43096562  0.28252398  1.43096562  1.43096562 -0.86591765\n",
      "  1.43096562 -1.44013847 -0.86591765  1.43096562  1.43096562 -0.86591765\n",
      "  1.43096562  1.43096562  1.43096562 -0.86591765 -0.86591765 -0.86591765\n",
      " -0.86591765  0.28252398 -0.86591765 -0.86591765 -0.86591765 -0.86591765\n",
      "  1.43096562  0.28252398 -0.86591765 -0.86591765  1.43096562 -0.86591765\n",
      " -0.86591765  0.28252398  0.28252398 -0.86591765  0.28252398 -0.86591765\n",
      " -0.86591765 -0.86591765 -0.86591765  0.28252398 -0.86591765  0.28252398\n",
      "  1.43096562 -0.86591765 -0.86591765  1.43096562  1.43096562  0.28252398\n",
      "  1.43096562 -0.86591765  1.43096562  1.43096562  0.28252398  0.28252398\n",
      " -0.86591765 -0.86591765 -0.86591765  1.43096562 -0.86591765 -0.86591765\n",
      " -0.86591765 -0.86591765  0.28252398  1.43096562  1.43096562 -0.86591765\n",
      " -0.86591765  0.28252398  1.43096562 -0.86591765  1.43096562  1.43096562\n",
      "  1.43096562  0.28252398 -0.86591765 -0.86591765 -0.86591765 -0.86591765\n",
      "  0.28252398]' has dtype incompatible with int64, please explicitly cast to a compatible dtype first.\n",
      "  df_train_norm.loc[:, col_name] = (df_train_norm.loc[:, col_name] - mean)/std\n",
      "/var/folders/n3/4qctfjhd43j9h6fypc3p1h480000gn/T/ipykernel_80422/4283327601.py:9: FutureWarning: Setting an item of incompatible dtype is deprecated and will raise in a future error of pandas. Value '[ 1.43096562  0.28252398 -0.86591765  0.28252398  0.28252398 -0.86591765\n",
      "  0.28252398 -0.86591765 -0.86591765  0.28252398  1.43096562  1.43096562\n",
      "  0.28252398 -0.86591765  0.28252398 -0.86591765 -0.86591765 -0.86591765\n",
      " -0.86591765  0.28252398  0.28252398  0.28252398 -0.86591765  0.28252398\n",
      "  0.28252398 -0.86591765 -0.86591765 -0.86591765 -0.86591765 -0.86591765\n",
      " -0.86591765 -0.86591765  1.43096562 -0.86591765 -0.86591765  0.28252398\n",
      "  0.28252398  0.28252398  0.28252398  0.28252398 -0.86591765 -0.86591765\n",
      " -0.86591765  0.28252398 -0.86591765 -0.86591765 -0.86591765  1.43096562\n",
      " -0.86591765 -0.86591765 -0.86591765  1.43096562  1.43096562 -0.29169684\n",
      " -0.86591765 -0.86591765  0.28252398 -0.86591765  1.43096562  1.43096562\n",
      "  1.43096562 -0.86591765 -0.86591765  1.43096562 -0.86591765  0.28252398\n",
      " -0.86591765 -0.86591765 -0.86591765  0.28252398 -0.86591765  1.43096562\n",
      "  1.43096562 -0.86591765 -0.86591765  0.28252398  1.43096562 -0.86591765\n",
      "  1.43096562]' has dtype incompatible with int64, please explicitly cast to a compatible dtype first.\n",
      "  df_test_norm.loc[:, col_name] = (df_test_norm.loc[:, col_name] - mean)/std\n"
     ]
    },
    {
     "data": {
      "text/html": [
       "<div>\n",
       "<style scoped>\n",
       "    .dataframe tbody tr th:only-of-type {\n",
       "        vertical-align: middle;\n",
       "    }\n",
       "\n",
       "    .dataframe tbody tr th {\n",
       "        vertical-align: top;\n",
       "    }\n",
       "\n",
       "    .dataframe thead th {\n",
       "        text-align: right;\n",
       "    }\n",
       "</style>\n",
       "<table border=\"1\" class=\"dataframe\">\n",
       "  <thead>\n",
       "    <tr style=\"text-align: right;\">\n",
       "      <th></th>\n",
       "      <th>MPG</th>\n",
       "      <th>Cylinders</th>\n",
       "      <th>Displacement</th>\n",
       "      <th>Horsepower</th>\n",
       "      <th>Weight</th>\n",
       "      <th>Acceleration</th>\n",
       "      <th>Model Year</th>\n",
       "      <th>Origin</th>\n",
       "    </tr>\n",
       "  </thead>\n",
       "  <tbody>\n",
       "    <tr>\n",
       "      <th>175</th>\n",
       "      <td>23.0</td>\n",
       "      <td>-0.865918</td>\n",
       "      <td>-0.760459</td>\n",
       "      <td>-0.292933</td>\n",
       "      <td>-0.353801</td>\n",
       "      <td>-0.127667</td>\n",
       "      <td>75</td>\n",
       "      <td>2</td>\n",
       "    </tr>\n",
       "    <tr>\n",
       "      <th>45</th>\n",
       "      <td>22.0</td>\n",
       "      <td>-0.865918</td>\n",
       "      <td>-0.527025</td>\n",
       "      <td>-0.892031</td>\n",
       "      <td>-0.686104</td>\n",
       "      <td>1.346862</td>\n",
       "      <td>71</td>\n",
       "      <td>1</td>\n",
       "    </tr>\n",
       "    <tr>\n",
       "      <th>130</th>\n",
       "      <td>25.0</td>\n",
       "      <td>-0.865918</td>\n",
       "      <td>-0.527025</td>\n",
       "      <td>-0.813888</td>\n",
       "      <td>-0.530410</td>\n",
       "      <td>0.609598</td>\n",
       "      <td>74</td>\n",
       "      <td>1</td>\n",
       "    </tr>\n",
       "    <tr>\n",
       "      <th>242</th>\n",
       "      <td>43.1</td>\n",
       "      <td>-0.865918</td>\n",
       "      <td>-0.993894</td>\n",
       "      <td>-1.517177</td>\n",
       "      <td>-1.177589</td>\n",
       "      <td>2.268443</td>\n",
       "      <td>78</td>\n",
       "      <td>2</td>\n",
       "    </tr>\n",
       "    <tr>\n",
       "      <th>172</th>\n",
       "      <td>18.0</td>\n",
       "      <td>0.282524</td>\n",
       "      <td>-0.237566</td>\n",
       "      <td>-0.240838</td>\n",
       "      <td>-0.016849</td>\n",
       "      <td>-0.311983</td>\n",
       "      <td>75</td>\n",
       "      <td>1</td>\n",
       "    </tr>\n",
       "  </tbody>\n",
       "</table>\n",
       "</div>"
      ],
      "text/plain": [
       "      MPG  Cylinders  Displacement  Horsepower    Weight  Acceleration  \\\n",
       "175  23.0  -0.865918     -0.760459   -0.292933 -0.353801     -0.127667   \n",
       "45   22.0  -0.865918     -0.527025   -0.892031 -0.686104      1.346862   \n",
       "130  25.0  -0.865918     -0.527025   -0.813888 -0.530410      0.609598   \n",
       "242  43.1  -0.865918     -0.993894   -1.517177 -1.177589      2.268443   \n",
       "172  18.0   0.282524     -0.237566   -0.240838 -0.016849     -0.311983   \n",
       "\n",
       "     Model Year  Origin  \n",
       "175          75       2  \n",
       "45           71       1  \n",
       "130          74       1  \n",
       "242          78       2  \n",
       "172          75       1  "
      ]
     },
     "execution_count": 6,
     "metadata": {},
     "output_type": "execute_result"
    }
   ],
   "source": [
    "numeric_column_names = ['Cylinders', 'Displacement', 'Horsepower', 'Weight', 'Acceleration']\n",
    "\n",
    "df_train_norm, df_test_norm = df_train.copy(), df_test.copy()\n",
    "\n",
    "for col_name in numeric_column_names:\n",
    "    mean = train_stats.loc[col_name, 'mean']\n",
    "    std  = train_stats.loc[col_name, 'std']\n",
    "    df_train_norm.loc[:, col_name] = (df_train_norm.loc[:, col_name] - mean)/std\n",
    "    df_test_norm.loc[:, col_name] = (df_test_norm.loc[:, col_name] - mean)/std\n",
    "    \n",
    "df_train_norm.tail()"
   ]
  },
  {
   "cell_type": "markdown",
   "metadata": {},
   "source": [
    "Grupujemy informacje o roku modelowym w następujący sposób:\n",
    "$$\n",
    "\\text{bucket} =\n",
    "\\begin{cases}\n",
    "0 & \\text{jeśli year} < 73, \\\\\n",
    "1 & \\text{jeśli } 73 \\leq \\text{year} < 76, \\\\\n",
    "2 & \\text{jeśli } 76 \\leq \\text{year} < 79, \\\\\n",
    "3 & \\text{jeśli year} \\geq 79.\n",
    "\\end{cases}\n",
    "$$"
   ]
  },
  {
   "cell_type": "code",
   "execution_count": 7,
   "metadata": {},
   "outputs": [],
   "source": [
    "boundaries = torch.tensor([73, 76, 79])\n",
    " \n",
    "v = torch.tensor(df_train_norm['Model Year'].values)\n",
    "df_train_norm['Model Year Bucketed'] = torch.bucketize(v, boundaries, right=True)\n",
    "\n",
    "v = torch.tensor(df_test_norm['Model Year'].values)\n",
    "df_test_norm['Model Year Bucketed'] = torch.bucketize(v, boundaries, right=True)\n",
    "\n",
    "numeric_column_names.append('Model Year Bucketed')"
   ]
  },
  {
   "cell_type": "markdown",
   "metadata": {},
   "source": [
    "Stosujemy one-hot-encoding do nieuporządkowanej zmiennej jakościowej Origin:"
   ]
  },
  {
   "cell_type": "code",
   "execution_count": 9,
   "metadata": {},
   "outputs": [],
   "source": [
    "from torch.nn.functional import one_hot\n",
    "\n",
    "\n",
    "total_origin = len(set(df_train_norm['Origin']))\n",
    "\n",
    "origin_encoded = one_hot(torch.from_numpy(df_train_norm['Origin'].values) % total_origin)\n",
    "x_train_numeric = torch.tensor(df_train_norm[numeric_column_names].values)\n",
    "x_train = torch.cat([x_train_numeric, origin_encoded], 1).float()\n",
    " \n",
    "origin_encoded = one_hot(torch.from_numpy(df_test_norm['Origin'].values) % total_origin)    ###########\n",
    "x_test_numeric = torch.tensor(df_test_norm[numeric_column_names].values)                ###########\n",
    "x_test = torch.cat([x_test_numeric, origin_encoded], 1).float() #######\n"
   ]
  },
  {
   "cell_type": "markdown",
   "metadata": {},
   "source": [
    "Tworzymy tensory z wartościami zmiennej zależnej MPG:"
   ]
  },
  {
   "cell_type": "code",
   "execution_count": 10,
   "metadata": {},
   "outputs": [],
   "source": [
    "y_train = torch.tensor(df_train_norm['MPG'].values).float()\n",
    "y_test = torch.tensor(df_test_norm['MPG'].values).float()"
   ]
  },
  {
   "cell_type": "markdown",
   "metadata": {},
   "source": [
    "---"
   ]
  },
  {
   "cell_type": "markdown",
   "metadata": {},
   "source": [
    "Tworzymy DataLoader z `batch_size = 8` dla danych uczących (`shuffle=True`):"
   ]
  },
  {
   "cell_type": "code",
   "execution_count": 11,
   "metadata": {},
   "outputs": [],
   "source": [
    "from torch.utils.data import DataLoader, TensorDataset\n",
    "\n",
    "train_ds = TensorDataset(x_train, y_train)\n",
    "batch_size = 8\n",
    "torch.manual_seed(1)\n",
    "train_dl = DataLoader(train_ds, batch_size, shuffle=True)   ###########"
   ]
  },
  {
   "cell_type": "markdown",
   "metadata": {},
   "source": [
    "Budujemy sieć typu MLP z dwiema ukrytymi warstwami (rozmiaru 8 oraz 4):"
   ]
  },
  {
   "cell_type": "code",
   "execution_count": 12,
   "metadata": {
    "scrolled": true
   },
   "outputs": [
    {
     "data": {
      "text/plain": [
       "Sequential(\n",
       "  (0): Linear(in_features=9, out_features=8, bias=True)\n",
       "  (1): ReLU()\n",
       "  (2): Linear(in_features=8, out_features=4, bias=True)\n",
       "  (3): ReLU()\n",
       "  (4): Linear(in_features=4, out_features=1, bias=True)\n",
       ")"
      ]
     },
     "execution_count": 12,
     "metadata": {},
     "output_type": "execute_result"
    }
   ],
   "source": [
    "hidden_units = [8, 4]\n",
    "input_size = x_train.shape[1]\n",
    "\n",
    "all_layers = []\n",
    "for hidden_unit in hidden_units:\n",
    "    layer = nn.Linear(input_size, hidden_unit)\n",
    "    all_layers.append(layer)\n",
    "    all_layers.append(nn.ReLU())\n",
    "    input_size = hidden_unit\n",
    "\n",
    "all_layers.append(nn.Linear(hidden_units[-1], 1))\n",
    "\n",
    "model = nn.Sequential(*all_layers)\n",
    "\n",
    "model"
   ]
  },
  {
   "cell_type": "markdown",
   "metadata": {},
   "source": [
    "Wybieramy funkcję straty MSE oraz SGD jako optymalizator (`lr=0.001` na początek):"
   ]
  },
  {
   "cell_type": "code",
   "execution_count": 13,
   "metadata": {},
   "outputs": [],
   "source": [
    "loss_fn = nn.MSELoss()\n",
    "optimizer = torch.optim.SGD(model.parameters(), lr=0.001)"
   ]
  },
  {
   "cell_type": "markdown",
   "metadata": {},
   "source": [
    "Uczymy model przez 240 epok i wyświetlamy stratę na zbiorze uczącym co 20 epok:"
   ]
  },
  {
   "cell_type": "code",
   "execution_count": 16,
   "metadata": {
    "scrolled": true
   },
   "outputs": [
    {
     "name": "stdout",
     "output_type": "stream",
     "text": [
      "Epoch 0  Loss 523.0650\n",
      "Epoch 20  Loss 7.4822\n",
      "Epoch 40  Loss 9.4665\n",
      "Epoch 60  Loss 6.8254\n",
      "Epoch 80  Loss 8.5104\n",
      "Epoch 100  Loss 6.9554\n",
      "Epoch 120  Loss 6.9052\n",
      "Epoch 140  Loss 6.6565\n",
      "Epoch 160  Loss 6.3265\n",
      "Epoch 180  Loss 6.5258\n",
      "Epoch 200  Loss 6.1354\n",
      "Epoch 220  Loss 6.3239\n"
     ]
    }
   ],
   "source": [
    "num_epochs = 240\n",
    "log_epochs = 20\n",
    "\n",
    "for epoch in range(num_epochs):\n",
    "    loss_hist_train = 0\n",
    "    \n",
    "    for x_batch, y_batch in train_dl:\n",
    "        pred = model(x_batch)[:, 0]\n",
    "        loss = loss_fn(pred, y_batch)\n",
    "        loss.backward()\n",
    "        optimizer.step()\n",
    "        optimizer.zero_grad()\n",
    "        \n",
    "        loss_hist_train += loss.item()\n",
    "    if epoch % log_epochs==0:\n",
    "        print(f'Epoch {epoch}  Loss {loss_hist_train/len(train_dl):.4f}')"
   ]
  },
  {
   "cell_type": "markdown",
   "metadata": {},
   "source": [
    "Sprawdzamy jakość modelu (MSE oraz MAE) na zbiorze testowym:"
   ]
  },
  {
   "cell_type": "code",
   "execution_count": 17,
   "metadata": {},
   "outputs": [
    {
     "name": "stdout",
     "output_type": "stream",
     "text": [
      "Test MSE: 9.6410\n",
      "Test MAE: 2.2533\n"
     ]
    }
   ],
   "source": [
    "with torch.no_grad():\n",
    "    pred = model(x_test.float())[:, 0]\n",
    "    loss = loss_fn(pred, y_test)\n",
    "    print(f'Test MSE: {loss.item():.4f}')\n",
    "    print(f'Test MAE: {nn.L1Loss()(pred, y_test).item():.4f}')"
   ]
  }
 ],
 "metadata": {
  "kernelspec": {
   "display_name": "Python 3 (ipykernel)",
   "language": "python",
   "name": "python3"
  },
  "language_info": {
   "codemirror_mode": {
    "name": "ipython",
    "version": 3
   },
   "file_extension": ".py",
   "mimetype": "text/x-python",
   "name": "python",
   "nbconvert_exporter": "python",
   "pygments_lexer": "ipython3",
   "version": "3.11.8"
  }
 },
 "nbformat": 4,
 "nbformat_minor": 4
}
