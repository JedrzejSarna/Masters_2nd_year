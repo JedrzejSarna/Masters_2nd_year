{
 "cells": [
  {
   "cell_type": "markdown",
   "metadata": {
    "tags": []
   },
   "source": [
    "# Sieci neuronowe i Deep Learning\n",
    "# Temat dodatkowy: Moduł torch.optim w bibliotece PyTorch"
   ]
  },
  {
   "cell_type": "markdown",
   "metadata": {},
   "source": [
    "Dokumentacja: https://pytorch.org/docs/stable/optim.html#module-torch.optim."
   ]
  },
  {
   "cell_type": "markdown",
   "metadata": {},
   "source": [
    "Moduł `troch.optim` zawiera implementacje różnych algorytmów optymalizacyjnych wykorzystywanych w procesie uczenia sieci neuronowych.\n",
    "\n",
    "Aby użyć tego modułu, należy stworzyć obiekt optimizer (podajemy parametry modelu, które będą optymalizowane, oraz parametry samego algorytmu optymalizacyjnego):\n",
    "\n",
    "```optimizer = optim.SGD(model.parameters(), lr=0.01)```\n",
    "\n",
    "```optimizer = optim.Adam([var1, var2], lr=0.0001) ```"
   ]
  },
  {
   "cell_type": "markdown",
   "metadata": {},
   "source": [
    "Dla każdego algorytmu optymalizacyjnego z modułu torch.optim zaimplementowana jest metoda `step()`, która aktualizuje trenowane parametry.\n",
    "\n",
    "Jedne ze sposobów, w jaki można ją używać, został przedstawiony w kodzie do wykładu nr 5 (patrz przykład na danych Iris)."
   ]
  },
  {
   "cell_type": "markdown",
   "metadata": {},
   "source": [
    "Lista dostępnych algorytmów:\n",
    "https://pytorch.org/docs/stable/optim.html#algorithms."
   ]
  },
  {
   "cell_type": "markdown",
   "metadata": {},
   "source": [
    "## Zadanie D.1\n",
    "\n",
    "Zapoznać się z możliwościami modułu\n",
    "`torch.optim.lr_scheduler`, który dostarcza różne metody do dostosowywania szybkości uczenia się (*learning rate*) w trakcie treningu modelu (w szczególności zapoznać się z podejściami takimi jak\n",
    "*Step Decay*,\n",
    "*Exponential Decay*,\n",
    "*Cosine Annealing*,\n",
    "*ReduceLROnPlateau*)."
   ]
  },
  {
   "cell_type": "markdown",
   "metadata": {},
   "source": [
    "## Zadanie D.2\n",
    "\n",
    "Zastosować wybrany (najlepiej przetestować różne) harmonogram modyfikacji współczynnika tempa uczenia modelu w trakcie treningu do jednego z analizowanych wcześniej przykładów budowy sieci neuronowej MLP (dane Iris lub rozpoznawanie odręcznie pisanych cyfr)."
   ]
  }
 ],
 "metadata": {
  "anaconda-cloud": {},
  "kernelspec": {
   "display_name": "Python 3 (ipykernel)",
   "language": "python",
   "name": "python3"
  },
  "language_info": {
   "codemirror_mode": {
    "name": "ipython",
    "version": 3
   },
   "file_extension": ".py",
   "mimetype": "text/x-python",
   "name": "python",
   "nbconvert_exporter": "python",
   "pygments_lexer": "ipython3",
   "version": "3.11.5"
  }
 },
 "nbformat": 4,
 "nbformat_minor": 4
}
